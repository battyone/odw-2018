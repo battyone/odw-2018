{
  "nbformat": 4,
  "nbformat_minor": 0,
  "metadata": {
    "kernelspec": {
      "name": "python3",
      "display_name": "Python 3"
    },
    "colab": {
      "name": "3-Intro-CBC.ipynb",
      "provenance": []
    }
  },
  "cells": [
    {
      "cell_type": "markdown",
      "metadata": {
        "id": "FytLr8_PgNXy",
        "colab_type": "text"
      },
      "source": [
        "# Introduction to Binary Black Hole Signals\n",
        "\n",
        "This tutorials provides a workspace and some check questions for the tutorial at:\n",
        "https://losc.ligo.org/s/events/GW150914/LOSC_Event_tutorial_GW150914.html"
      ]
    },
    {
      "cell_type": "markdown",
      "metadata": {
        "id": "K7zNbe4bgNX4",
        "colab_type": "text"
      },
      "source": [
        "### Imports and set-up"
      ]
    },
    {
      "cell_type": "code",
      "metadata": {
        "id": "QGfCzeEpgNX7",
        "colab_type": "code",
        "colab": {}
      },
      "source": [
        "# Standard python numerical analysis imports:\n",
        "import numpy as np\n",
        "from scipy import signal\n",
        "from scipy.interpolate import interp1d\n",
        "from scipy.signal import butter, filtfilt, iirdesign, zpk2tf, freqz\n",
        "import h5py\n",
        "import json\n",
        "import sys\n",
        "\n",
        "pyversion = sys.version_info.major\n",
        "if pyversion == 2: \n",
        "    import urllib2\n",
        "else:\n",
        "    import urllib.request\n",
        "    \n",
        "import os\n",
        "\n",
        "# the IPython magic below must be commented out in the .py file, since it doesn't work there.\n",
        "%matplotlib inline\n",
        "%config InlineBackend.figure_format = 'retina'\n",
        "import matplotlib.pyplot as plt\n",
        "import matplotlib.mlab as mlab"
      ],
      "execution_count": 0,
      "outputs": []
    },
    {
      "cell_type": "markdown",
      "metadata": {
        "id": "iF3mIqltgNYK",
        "colab_type": "text"
      },
      "source": [
        "### Define a handy function for data downloads"
      ]
    },
    {
      "cell_type": "code",
      "metadata": {
        "id": "tCQsqxmpgNYN",
        "colab_type": "code",
        "colab": {}
      },
      "source": [
        "# -- Handy function to download data file, and return the filename\n",
        "def download(url):\n",
        "    filename = url.split('/')[-1]\n",
        "    print('Downloading ' + url )\n",
        "    if pyversion == 2: \n",
        "        r = urllib2.urlopen(url).read()\n",
        "        f = open(filename, 'w')   # write it to the right filename\n",
        "        f.write(r)\n",
        "        f.close()\n",
        "    else:\n",
        "        urllib.request.urlretrieve(url, filename)  \n",
        "    print(\"File download complete\")\n",
        "    return filename"
      ],
      "execution_count": 0,
      "outputs": []
    },
    {
      "cell_type": "markdown",
      "metadata": {
        "id": "W1798MetgNYY",
        "colab_type": "text"
      },
      "source": [
        "## File downloads\n"
      ]
    },
    {
      "cell_type": "code",
      "metadata": {
        "id": "YjW4BFaDgNYZ",
        "colab_type": "code",
        "colab": {
          "base_uri": "https://localhost:8080/",
          "height": 225
        },
        "outputId": "76fd75e8-68f2-4768-eaa8-3fae6d359700"
      },
      "source": [
        "download('https://losc.ligo.org/s/sample_code/readligo.py')\n",
        "download('https://losc.ligo.org/s/events/BBH_events_v3.json')\n",
        "download('https://losc.ligo.org/s/sample_code/readligo.py')\n",
        "fn_H1 = download('https://losc.ligo.org/s/events/GW150914/H-H1_LOSC_4_V2-1126259446-32.hdf5')\n",
        "fn_L1 = download('https://losc.ligo.org/s/events/GW150914/L-L1_LOSC_4_V2-1126259446-32.hdf5')\n",
        "fn_template = download('https://losc.ligo.org/s/events/GW150914/GW150914_4_template.hdf5')"
      ],
      "execution_count": 3,
      "outputs": [
        {
          "output_type": "stream",
          "text": [
            "Downloading https://losc.ligo.org/s/sample_code/readligo.py\n",
            "File download complete\n",
            "Downloading https://losc.ligo.org/s/events/BBH_events_v3.json\n",
            "File download complete\n",
            "Downloading https://losc.ligo.org/s/sample_code/readligo.py\n",
            "File download complete\n",
            "Downloading https://losc.ligo.org/s/events/GW150914/H-H1_LOSC_4_V2-1126259446-32.hdf5\n",
            "File download complete\n",
            "Downloading https://losc.ligo.org/s/events/GW150914/L-L1_LOSC_4_V2-1126259446-32.hdf5\n",
            "File download complete\n",
            "Downloading https://losc.ligo.org/s/events/GW150914/GW150914_4_template.hdf5\n",
            "File download complete\n"
          ],
          "name": "stdout"
        }
      ]
    },
    {
      "cell_type": "markdown",
      "metadata": {
        "id": "SH7xZdHTgNYl",
        "colab_type": "text"
      },
      "source": [
        "## Plot the PSD\n",
        "\n",
        "1. Make a plot of the PSD of the Hanford and Livingston data.  \n",
        " * Example at https://losc.ligo.org/s/events/GW150914/LOSC_Event_tutorial_GW150914.html\n",
        "1. What noise features do you notice in the plot?  \n",
        "1. What is the most sensitive frequency band for this data?"
      ]
    },
    {
      "cell_type": "code",
      "metadata": {
        "id": "nKIR9LAJgNYo",
        "colab_type": "code",
        "colab": {}
      },
      "source": [
        "import readligo as rl\n",
        "strain_H1, time_H1, chan_dict_H1 = rl.loaddata(fn_H1, 'H1')\n",
        "strain_L1, time_L1, chan_dict_L1 = rl.loaddata(fn_L1, 'L1')"
      ],
      "execution_count": 0,
      "outputs": []
    },
    {
      "cell_type": "markdown",
      "metadata": {
        "id": "U05RrfhpgNYw",
        "colab_type": "text"
      },
      "source": [
        "## Calculate the SNR of GW150914\n",
        "\n",
        "Calculate the matched filter SNR of GW150914.  As a guide, you can see how this is done here:\n",
        "https://losc.ligo.org/s/events/GW150914/LOSC_Event_tutorial_GW150914.html"
      ]
    },
    {
      "cell_type": "markdown",
      "metadata": {
        "id": "MflgWRxMgNYy",
        "colab_type": "text"
      },
      "source": [
        "## Plot the whitened data\n",
        "\n",
        "1. Whiten and band-pass the GW150914 data.\n",
        "1. Plot the data after whitening and band-passing.\n",
        "1. Are you able to see the signal?\n",
        "1. Matched filtering is performed in whitened data.  Why is this important?"
      ]
    },
    {
      "cell_type": "markdown",
      "metadata": {
        "id": "2MdswAi7gNY0",
        "colab_type": "text"
      },
      "source": [
        "### More to Explore\n",
        "\n",
        "The S6 data set contains thousands of binary black hole hardware injections.\n",
        "\n",
        "For documentation, see:\n",
        "https://losc.ligo.org/s6hwcbc/\n",
        "\n",
        "1. You can see a tutorial on how to perform a matched filter for these hardware injections here: https://losc.ligo.org/inj/step1/\n",
        "\n",
        "1. Write a script that will calculate the SNR for each BBH hardware injection during S6.  Documentation is here: https://losc.ligo.org/s6hwcbc/"
      ]
    }
  ]
}