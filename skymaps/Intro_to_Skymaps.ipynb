{
  "nbformat": 4,
  "nbformat_minor": 0,
  "metadata": {
    "kernelspec": {
      "name": "python3",
      "display_name": "Python 3"
    },
    "colab": {
      "name": "Intro_to_Skymaps.ipynb",
      "provenance": []
    }
  },
  "cells": [
    {
      "cell_type": "markdown",
      "metadata": {
        "id": "G8ofAlG4r05m",
        "colab_type": "text"
      },
      "source": [
        "# Introduction to LIGO Skymaps\n",
        "In this first tutorial we will learn the basics of LIGO sky localiztion probability maps (skymaps).\n",
        "\n",
        "We will cover a) downloading and reading in the Flexible Image Transport System (FITS) files, b) getting header information for skymaps, c) getting probabilities given line of sight (right ascension/declination), d) finding the maximum probability density pixel, e) creating skymap plots with galactic coordinates, f) selecting the 50% and 90% probability regions, and g) down-sampling the map to coarser resolutions."
      ]
    },
    {
      "cell_type": "markdown",
      "metadata": {
        "id": "gTRlzFRZr05z",
        "colab_type": "text"
      },
      "source": [
        "## Setting up the Python Environment\n",
        "The following packages are needed for working with LIGO skymaps: Astropy, Healpy, and Numpy. We will also utilize Matplotlib, Scipy, and Astroquery. All of these packages can be installed using Pip."
      ]
    },
    {
      "cell_type": "code",
      "metadata": {
        "id": "Cj5lo98gr057",
        "colab_type": "code",
        "colab": {
          "base_uri": "https://localhost:8080/",
          "height": 817
        },
        "outputId": "5db37d17-fbce-488f-cfb3-814afd1c4863"
      },
      "source": [
        "import sys\n",
        "!{sys.executable} -m pip install \"astropy\" \"astroquery\" \"healpy\" \"matplotlib\" \"scipy\""
      ],
      "execution_count": 1,
      "outputs": [
        {
          "output_type": "stream",
          "text": [
            "Requirement already satisfied: astropy in /usr/local/lib/python3.6/dist-packages (4.0)\n",
            "Collecting astroquery\n",
            "\u001b[?25l  Downloading https://files.pythonhosted.org/packages/52/30/4e93561fa1426a0e1e93dcb7ed05405968fc2792c49d43da023620c9bbc4/astroquery-0.3.10.tar.gz (4.4MB)\n",
            "\u001b[K     |████████████████████████████████| 4.4MB 9.7MB/s \n",
            "\u001b[?25hCollecting healpy\n",
            "\u001b[?25l  Downloading https://files.pythonhosted.org/packages/30/18/04e88aff3d4cc6818465c0e397f8e87fb51403f65afc5c119f90c4932ba3/healpy-1.13.0-cp36-cp36m-manylinux1_x86_64.whl (11.8MB)\n",
            "\u001b[K     |████████████████████████████████| 11.8MB 25.7MB/s \n",
            "\u001b[?25hRequirement already satisfied: matplotlib in /usr/local/lib/python3.6/dist-packages (3.1.2)\n",
            "Requirement already satisfied: scipy in /usr/local/lib/python3.6/dist-packages (1.4.1)\n",
            "Requirement already satisfied: numpy>=1.16 in /usr/local/lib/python3.6/dist-packages (from astropy) (1.17.5)\n",
            "Requirement already satisfied: requests>=2.4.3 in /usr/local/lib/python3.6/dist-packages (from astroquery) (2.21.0)\n",
            "Collecting keyring>=4.0\n",
            "  Downloading https://files.pythonhosted.org/packages/28/40/2bed013b87d6d2bf4104db67bab7c8c5b5f88ff68b383dc967b6019ee9e5/keyring-21.1.0-py2.py3-none-any.whl\n",
            "Requirement already satisfied: beautifulsoup4>=4.3.2 in /usr/local/lib/python3.6/dist-packages (from astroquery) (4.6.3)\n",
            "Requirement already satisfied: html5lib>=0.999 in /usr/local/lib/python3.6/dist-packages (from astroquery) (1.0.1)\n",
            "Requirement already satisfied: six in /usr/local/lib/python3.6/dist-packages (from astroquery) (1.12.0)\n",
            "Requirement already satisfied: pyparsing!=2.0.4,!=2.1.2,!=2.1.6,>=2.0.1 in /usr/local/lib/python3.6/dist-packages (from matplotlib) (2.4.6)\n",
            "Requirement already satisfied: kiwisolver>=1.0.1 in /usr/local/lib/python3.6/dist-packages (from matplotlib) (1.1.0)\n",
            "Requirement already satisfied: cycler>=0.10 in /usr/local/lib/python3.6/dist-packages (from matplotlib) (0.10.0)\n",
            "Requirement already satisfied: python-dateutil>=2.1 in /usr/local/lib/python3.6/dist-packages (from matplotlib) (2.6.1)\n",
            "Requirement already satisfied: chardet<3.1.0,>=3.0.2 in /usr/local/lib/python3.6/dist-packages (from requests>=2.4.3->astroquery) (3.0.4)\n",
            "Requirement already satisfied: certifi>=2017.4.17 in /usr/local/lib/python3.6/dist-packages (from requests>=2.4.3->astroquery) (2019.11.28)\n",
            "Requirement already satisfied: urllib3<1.25,>=1.21.1 in /usr/local/lib/python3.6/dist-packages (from requests>=2.4.3->astroquery) (1.24.3)\n",
            "Requirement already satisfied: idna<2.9,>=2.5 in /usr/local/lib/python3.6/dist-packages (from requests>=2.4.3->astroquery) (2.8)\n",
            "Collecting jeepney>=0.4.2; sys_platform == \"linux\"\n",
            "  Downloading https://files.pythonhosted.org/packages/ae/35/7e580cfed452e3b8c3cca44290adc54b8b5a5b8e37f89da5d24b09318be8/jeepney-0.4.2-py3-none-any.whl\n",
            "Requirement already satisfied: importlib-metadata; python_version < \"3.8\" in /usr/local/lib/python3.6/dist-packages (from keyring>=4.0->astroquery) (1.4.0)\n",
            "Collecting SecretStorage>=3; sys_platform == \"linux\"\n",
            "  Downloading https://files.pythonhosted.org/packages/c3/50/8a02cad020e949e6d7105f5f4530d41e3febcaa5b73f8f2148aacb3aeba5/SecretStorage-3.1.2-py3-none-any.whl\n",
            "Requirement already satisfied: webencodings in /usr/local/lib/python3.6/dist-packages (from html5lib>=0.999->astroquery) (0.5.1)\n",
            "Requirement already satisfied: setuptools in /usr/local/lib/python3.6/dist-packages (from kiwisolver>=1.0.1->matplotlib) (42.0.2)\n",
            "Requirement already satisfied: zipp>=0.5 in /usr/local/lib/python3.6/dist-packages (from importlib-metadata; python_version < \"3.8\"->keyring>=4.0->astroquery) (1.0.0)\n",
            "Collecting cryptography\n",
            "\u001b[?25l  Downloading https://files.pythonhosted.org/packages/ca/9a/7cece52c46546e214e10811b36b2da52ce1ea7fa203203a629b8dfadad53/cryptography-2.8-cp34-abi3-manylinux2010_x86_64.whl (2.3MB)\n",
            "\u001b[K     |████████████████████████████████| 2.3MB 45.5MB/s \n",
            "\u001b[?25hRequirement already satisfied: more-itertools in /usr/local/lib/python3.6/dist-packages (from zipp>=0.5->importlib-metadata; python_version < \"3.8\"->keyring>=4.0->astroquery) (8.0.2)\n",
            "Requirement already satisfied: cffi!=1.11.3,>=1.8 in /usr/local/lib/python3.6/dist-packages (from cryptography->SecretStorage>=3; sys_platform == \"linux\"->keyring>=4.0->astroquery) (1.13.2)\n",
            "Requirement already satisfied: pycparser in /usr/local/lib/python3.6/dist-packages (from cffi!=1.11.3,>=1.8->cryptography->SecretStorage>=3; sys_platform == \"linux\"->keyring>=4.0->astroquery) (2.19)\n",
            "Building wheels for collected packages: astroquery\n",
            "  Building wheel for astroquery (setup.py) ... \u001b[?25l\u001b[?25hdone\n",
            "  Created wheel for astroquery: filename=astroquery-0.3.10-cp36-none-any.whl size=3508444 sha256=be3b1b745913d50d34b52db98f9710ad31396a8df90ef4648dbbf26122ebe961\n",
            "  Stored in directory: /root/.cache/pip/wheels/cb/2f/df/06562d703b7f0577221c87174ae12bf4dcab0d40e8a02a8988\n",
            "Successfully built astroquery\n",
            "Installing collected packages: jeepney, cryptography, SecretStorage, keyring, astroquery, healpy\n",
            "Successfully installed SecretStorage-3.1.2 astroquery-0.3.10 cryptography-2.8 healpy-1.13.0 jeepney-0.4.2 keyring-21.1.0\n"
          ],
          "name": "stdout"
        }
      ]
    },
    {
      "cell_type": "markdown",
      "metadata": {
        "id": "qBrr7a19r06S",
        "colab_type": "text"
      },
      "source": [
        "All LIGO skymaps are stored as FITS files. The FITS files contain a single binary table that represent a HEALPix (Hierarchical Equal Area isoLatitude Pixelization) all-sky image.\n",
        "For compact binary mergers, 3-D skymaps (distance + directional information) are provided. These tables have four columns: PROB, DISTMU, DISTSTD, and DISTNORM.\n",
        "For unmodelled triggers, 2-D skymaps are generated with only directional information. These tables only have one column.\n",
        "\n",
        "More on this later.... Now that we have installed the packages successfully, let us try importing the necessary packages for working with the HEALPix files."
      ]
    },
    {
      "cell_type": "markdown",
      "metadata": {
        "id": "kEgiz0FJr06d",
        "colab_type": "text"
      },
      "source": [
        "## Import necessary packages "
      ]
    },
    {
      "cell_type": "code",
      "metadata": {
        "id": "lhrgDhanr06h",
        "colab_type": "code",
        "colab": {}
      },
      "source": [
        "import healpy as hp # for working with HEALPix files\n",
        "import numpy as np # needed for vector operations\n",
        "from matplotlib import pyplot as plt # plotting skymaps\n",
        "from scipy.stats import norm # probability functions"
      ],
      "execution_count": 0,
      "outputs": []
    },
    {
      "cell_type": "markdown",
      "metadata": {
        "id": "Wkn49P_Gr06p",
        "colab_type": "text"
      },
      "source": [
        "We will download a skymap from the BNS merger event, GW170817.\n",
        "Specifically, we will use the publication LALInference skymap.\n",
        "All skymaps relevant for this event released from the LIGO-Virgo side can be found here: https://dcc.ligo.org/LIGO-G1701985/public"
      ]
    },
    {
      "cell_type": "code",
      "metadata": {
        "id": "fSZpf86ur06q",
        "colab_type": "code",
        "colab": {}
      },
      "source": [
        "from astropy.utils.data import download_file\n",
        "url = ('https://dcc.ligo.org/public/0146/G1701985/001/LALInference_v2.fits.gz')\n",
        "# This is the publication LALInference localization\n",
        "filename = download_file(url, cache=True)"
      ],
      "execution_count": 0,
      "outputs": []
    },
    {
      "cell_type": "markdown",
      "metadata": {
        "id": "10O1RvyTr06u",
        "colab_type": "text"
      },
      "source": [
        "Now, when we read in the HEALPix file with Healpy, we get a skymap and a header. The skymap contains the first column which is the probability sky map. This is the probability that the source is contained in pixel $i$, centered on the direction $\\vec{n}_i$. The units are pixel$^{-1}$. For 3D skymaps, 3 additional columns remain which are DISTMU, DISTSTD, and DISTNORM."
      ]
    },
    {
      "cell_type": "markdown",
      "metadata": {
        "id": "N39Sv-fnr06u",
        "colab_type": "text"
      },
      "source": [
        "## Reading in the skymap and header with Healpy"
      ]
    },
    {
      "cell_type": "code",
      "metadata": {
        "id": "945cIS2cr06v",
        "colab_type": "code",
        "colab": {
          "base_uri": "https://localhost:8080/",
          "height": 141
        },
        "outputId": "2325604d-9133-4861-b466-3f860a419dac"
      },
      "source": [
        "prob, header = hp.read_map(filename, h=True) # reading in the first column which is the probability skymap and the header"
      ],
      "execution_count": 4,
      "outputs": [
        {
          "output_type": "stream",
          "text": [
            "/usr/local/lib/python3.6/dist-packages/healpy/fitsfunc.py:352: UserWarning: If you are not specifying the input dtype and using the default np.float64 dtype of read_map(), please consider that it will change in a future version to None as to keep the same dtype of the input file: please explicitly set the dtype if it is important to you.\n",
            "  \"If you are not specifying the input dtype and using the default \"\n"
          ],
          "name": "stderr"
        },
        {
          "output_type": "stream",
          "text": [
            "NSIDE = 1024\n",
            "ORDERING = NESTED in fits file\n",
            "INDXSCHM = IMPLICIT\n",
            "Ordering converted to RING\n"
          ],
          "name": "stdout"
        }
      ]
    },
    {
      "cell_type": "markdown",
      "metadata": {
        "id": "I8b726jPr06y",
        "colab_type": "text"
      },
      "source": [
        "Now, because we are working with a 3D skymap, we will read in distance information as well: distmu and distsigma (the ansatz location and scale parameters of condition distance distribution in direction $\\vec{n}_i$), and distnorm (the ansatz normalization coefficient)."
      ]
    },
    {
      "cell_type": "code",
      "metadata": {
        "id": "FhtJo3-Ur06z",
        "colab_type": "code",
        "colab": {
          "base_uri": "https://localhost:8080/",
          "height": 176
        },
        "outputId": "0175bd73-3054-4433-c43f-73673aaa788e"
      },
      "source": [
        "distmu, distsigma, distnorm = hp.read_map(filename, field=[1,2,3])"
      ],
      "execution_count": 5,
      "outputs": [
        {
          "output_type": "stream",
          "text": [
            "/usr/local/lib/python3.6/dist-packages/healpy/fitsfunc.py:352: UserWarning: If you are not specifying the input dtype and using the default np.float64 dtype of read_map(), please consider that it will change in a future version to None as to keep the same dtype of the input file: please explicitly set the dtype if it is important to you.\n",
            "  \"If you are not specifying the input dtype and using the default \"\n"
          ],
          "name": "stderr"
        },
        {
          "output_type": "stream",
          "text": [
            "NSIDE = 1024\n",
            "ORDERING = NESTED in fits file\n",
            "INDXSCHM = IMPLICIT\n",
            "Ordering converted to RING\n",
            "Ordering converted to RING\n",
            "Ordering converted to RING\n"
          ],
          "name": "stdout"
        }
      ]
    },
    {
      "cell_type": "markdown",
      "metadata": {
        "id": "yglqU8Pjr062",
        "colab_type": "text"
      },
      "source": [
        "Because we read in the header (which contains relevant metadata about the event and the skymap), we will print it explicitly. Often, the circulars written by the LIGO and Virgo Collaborations contain information from the skymap headers."
      ]
    },
    {
      "cell_type": "code",
      "metadata": {
        "id": "3jwVWyRXr063",
        "colab_type": "code",
        "colab": {
          "base_uri": "https://localhost:8080/",
          "height": 745
        },
        "outputId": "43561f40-03e7-4377-de0e-4a9d562585cf"
      },
      "source": [
        "header"
      ],
      "execution_count": 6,
      "outputs": [
        {
          "output_type": "execute_result",
          "data": {
            "text/plain": [
              "[('XTENSION', 'BINTABLE'),\n",
              " ('BITPIX', 8),\n",
              " ('NAXIS', 2),\n",
              " ('NAXIS1', 32),\n",
              " ('NAXIS2', 12582912),\n",
              " ('PCOUNT', 0),\n",
              " ('GCOUNT', 1),\n",
              " ('TFIELDS', 4),\n",
              " ('TTYPE1', 'PROB'),\n",
              " ('TFORM1', 'D'),\n",
              " ('TUNIT1', 'pix-1'),\n",
              " ('TTYPE2', 'DISTMU'),\n",
              " ('TFORM2', 'D'),\n",
              " ('TUNIT2', 'Mpc'),\n",
              " ('TTYPE3', 'DISTSIGMA'),\n",
              " ('TFORM3', 'D'),\n",
              " ('TUNIT3', 'Mpc'),\n",
              " ('TTYPE4', 'DISTNORM'),\n",
              " ('TFORM4', 'D'),\n",
              " ('TUNIT4', 'Mpc-2'),\n",
              " ('PIXTYPE', 'HEALPIX'),\n",
              " ('ORDERING', 'NESTED'),\n",
              " ('COORDSYS', 'C'),\n",
              " ('NSIDE', 1024),\n",
              " ('INDXSCHM', 'IMPLICIT'),\n",
              " ('OBJECT', 'GW170817'),\n",
              " ('DATE-OBS', '2017-08-17T12:41:04.429237'),\n",
              " ('MJD-OBS', 57982.52852348645),\n",
              " ('DATE', '2017-09-26T14:24:08.382958'),\n",
              " ('CREATOR', 'run_sky_area'),\n",
              " ('ORIGIN', 'LIGO/Virgo'),\n",
              " ('DISTMEAN', 38.58938617448738),\n",
              " ('DISTSTD', 6.996864447652665),\n",
              " ('VCSVERS', 'skyarea 0.3.2'),\n",
              " ('VCSSTAT', ''),\n",
              " ('VCSREV', ''),\n",
              " ('DATE-BLD', ''),\n",
              " ('HISTORY', ''),\n",
              " ('HISTORY', 'Generated by running the following script:'),\n",
              " ('HISTORY',\n",
              "  'run_sky_area -j --seed 150914 --samples ../../samples/posterior_samples_'),\n",
              " ('HISTORY', 'tidal_P28.dat --objid GW170817')]"
            ]
          },
          "metadata": {
            "tags": []
          },
          "execution_count": 6
        }
      ]
    },
    {
      "cell_type": "markdown",
      "metadata": {
        "id": "gDODRW1Hr066",
        "colab_type": "text"
      },
      "source": [
        "Above in the header, DISTMEAN is the posterior mean distance in Mpc and DISTSTD is the posterior standard deviation of the distance in Mpc."
      ]
    },
    {
      "cell_type": "markdown",
      "metadata": {
        "id": "5alO7Zjsr067",
        "colab_type": "text"
      },
      "source": [
        "Next, it will be useful for us to have the HEALPix resolution on hand."
      ]
    },
    {
      "cell_type": "code",
      "metadata": {
        "id": "2qL3n4u-r067",
        "colab_type": "code",
        "colab": {
          "base_uri": "https://localhost:8080/",
          "height": 35
        },
        "outputId": "4186cb84-4b2b-493a-a30b-47c9fd0365ee"
      },
      "source": [
        "npix = len(prob)\n",
        "nside = hp.npix2nside(npix)\n",
        "npix, nside"
      ],
      "execution_count": 7,
      "outputs": [
        {
          "output_type": "execute_result",
          "data": {
            "text/plain": [
              "(12582912, 1024)"
            ]
          },
          "metadata": {
            "tags": []
          },
          "execution_count": 7
        }
      ]
    },
    {
      "cell_type": "markdown",
      "metadata": {
        "id": "D9jN1jFrr06-",
        "colab_type": "text"
      },
      "source": [
        "Another way to get the same information is to use the Healpy functions get_map_size and get_nside."
      ]
    },
    {
      "cell_type": "code",
      "metadata": {
        "id": "IKd9uY92r07A",
        "colab_type": "code",
        "colab": {
          "base_uri": "https://localhost:8080/",
          "height": 35
        },
        "outputId": "2505ed0e-9f71-444c-e994-151707a7cf86"
      },
      "source": [
        "hp.get_map_size(prob)"
      ],
      "execution_count": 8,
      "outputs": [
        {
          "output_type": "execute_result",
          "data": {
            "text/plain": [
              "12582912"
            ]
          },
          "metadata": {
            "tags": []
          },
          "execution_count": 8
        }
      ]
    },
    {
      "cell_type": "code",
      "metadata": {
        "id": "XTZijccur07E",
        "colab_type": "code",
        "colab": {
          "base_uri": "https://localhost:8080/",
          "height": 35
        },
        "outputId": "e148d5a4-fa36-4360-cf37-92d1367cf6e5"
      },
      "source": [
        "hp.get_nside(prob)"
      ],
      "execution_count": 9,
      "outputs": [
        {
          "output_type": "execute_result",
          "data": {
            "text/plain": [
              "1024"
            ]
          },
          "metadata": {
            "tags": []
          },
          "execution_count": 9
        }
      ]
    },
    {
      "cell_type": "markdown",
      "metadata": {
        "id": "hNkOlnHwr07H",
        "colab_type": "text"
      },
      "source": [
        "The relationship between $npix$ and $nside$ is $npix = 12 * nside^2$."
      ]
    },
    {
      "cell_type": "markdown",
      "metadata": {
        "id": "6R8vsm-6r07I",
        "colab_type": "text"
      },
      "source": [
        "## Finding the maximum probability density pixel\n",
        "\n",
        "Sometimes it is useful to find the maximum probability density pixel."
      ]
    },
    {
      "cell_type": "code",
      "metadata": {
        "id": "rqsE2t3br07J",
        "colab_type": "code",
        "colab": {
          "base_uri": "https://localhost:8080/",
          "height": 35
        },
        "outputId": "487f8f77-bc8e-48c0-85d9-7cdc1c282ec0"
      },
      "source": [
        "maxpix = np.argmax(prob)\n",
        "maxpix"
      ],
      "execution_count": 10,
      "outputs": [
        {
          "output_type": "execute_result",
          "data": {
            "text/plain": [
              "8716482"
            ]
          },
          "metadata": {
            "tags": []
          },
          "execution_count": 10
        }
      ]
    },
    {
      "cell_type": "markdown",
      "metadata": {
        "id": "uhjWH2Jlr07M",
        "colab_type": "text"
      },
      "source": [
        "We want to compute the probability per deg$^2$ contained in this pixel.\n",
        "To find this, we first need Healpy to tell us the area per pixel in steradians at the current HEALPix resolution."
      ]
    },
    {
      "cell_type": "code",
      "metadata": {
        "id": "dPNl8Zyqr07N",
        "colab_type": "code",
        "colab": {
          "base_uri": "https://localhost:8080/",
          "height": 35
        },
        "outputId": "bf056790-5c7d-4628-b413-ac429b117c10"
      },
      "source": [
        "pixarea = hp.nside2pixarea(nside)\n",
        "pixarea"
      ],
      "execution_count": 11,
      "outputs": [
        {
          "output_type": "execute_result",
          "data": {
            "text/plain": [
              "9.986854087797142e-07"
            ]
          },
          "metadata": {
            "tags": []
          },
          "execution_count": 11
        }
      ]
    },
    {
      "cell_type": "markdown",
      "metadata": {
        "id": "81zWY8_8r07P",
        "colab_type": "text"
      },
      "source": [
        "Note, the $pixarea$ is the same as the solid angle of the sphere divided by the number of pixels, $4 \\pi/npix$."
      ]
    },
    {
      "cell_type": "code",
      "metadata": {
        "id": "693ex_r9r07Q",
        "colab_type": "code",
        "colab": {
          "base_uri": "https://localhost:8080/",
          "height": 35
        },
        "outputId": "5ac7ed98-b7e8-4da8-a2c3-eac8b7a06afb"
      },
      "source": [
        "pixarea == 4*np.pi/npix"
      ],
      "execution_count": 12,
      "outputs": [
        {
          "output_type": "execute_result",
          "data": {
            "text/plain": [
              "True"
            ]
          },
          "metadata": {
            "tags": []
          },
          "execution_count": 12
        }
      ]
    },
    {
      "cell_type": "markdown",
      "metadata": {
        "id": "3GDeJLXlr07T",
        "colab_type": "text"
      },
      "source": [
        "We can also get the $pixarea$ in deg$^2$."
      ]
    },
    {
      "cell_type": "code",
      "metadata": {
        "id": "OZ3l-POHr07U",
        "colab_type": "code",
        "colab": {
          "base_uri": "https://localhost:8080/",
          "height": 35
        },
        "outputId": "5b55ec05-3a96-4b7f-de3c-8b46b1970262"
      },
      "source": [
        "pixarea_deg2 = hp.nside2pixarea(nside, degrees=True)\n",
        "pixarea_deg2"
      ],
      "execution_count": 13,
      "outputs": [
        {
          "output_type": "execute_result",
          "data": {
            "text/plain": [
              "0.0032784908016061202"
            ]
          },
          "metadata": {
            "tags": []
          },
          "execution_count": 13
        }
      ]
    },
    {
      "cell_type": "markdown",
      "metadata": {
        "id": "_daZTlLUr07X",
        "colab_type": "text"
      },
      "source": [
        "We can also compute this by using the conversion from steradians to deg$^2$: $1$sr $= (180/\\pi)^2$ deg$^2$."
      ]
    },
    {
      "cell_type": "code",
      "metadata": {
        "id": "75iuTVIUr07Z",
        "colab_type": "code",
        "colab": {
          "base_uri": "https://localhost:8080/",
          "height": 35
        },
        "outputId": "54b9f909-8ff4-4c67-9587-575567821b0d"
      },
      "source": [
        "pixarea_deg2 == pixarea*(180/np.pi)**2"
      ],
      "execution_count": 14,
      "outputs": [
        {
          "output_type": "execute_result",
          "data": {
            "text/plain": [
              "True"
            ]
          },
          "metadata": {
            "tags": []
          },
          "execution_count": 14
        }
      ]
    },
    {
      "cell_type": "markdown",
      "metadata": {
        "id": "PtV_23oTr07d",
        "colab_type": "text"
      },
      "source": [
        "Thus, if we want to compute the probability per steradian or probability per deg$^2$, we just divide the probability contained in maxpix by the area per pixel."
      ]
    },
    {
      "cell_type": "code",
      "metadata": {
        "id": "8lEZ9xKMr07e",
        "colab_type": "code",
        "colab": {
          "base_uri": "https://localhost:8080/",
          "height": 35
        },
        "outputId": "c826eb24-9d4e-44d8-9fd9-a2b98b6ec87b"
      },
      "source": [
        "dp_dA = prob[maxpix]/pixarea\n",
        "dp_dA # Probability per steradian"
      ],
      "execution_count": 15,
      "outputs": [
        {
          "output_type": "execute_result",
          "data": {
            "text/plain": [
              "354.23731511473807"
            ]
          },
          "metadata": {
            "tags": []
          },
          "execution_count": 15
        }
      ]
    },
    {
      "cell_type": "code",
      "metadata": {
        "id": "e2NWe-MRr07r",
        "colab_type": "code",
        "colab": {
          "base_uri": "https://localhost:8080/",
          "height": 35
        },
        "outputId": "ff286a09-ce76-4d8f-8b96-9fb031aa3b13"
      },
      "source": [
        "dp_dA_deg2 = prob[maxpix]/pixarea_deg2\n",
        "dp_dA_deg2 # Probability per deg^2"
      ],
      "execution_count": 16,
      "outputs": [
        {
          "output_type": "execute_result",
          "data": {
            "text/plain": [
              "0.10790685692242273"
            ]
          },
          "metadata": {
            "tags": []
          },
          "execution_count": 16
        }
      ]
    },
    {
      "cell_type": "markdown",
      "metadata": {
        "id": "YovZUXKxr07w",
        "colab_type": "text"
      },
      "source": [
        "## 2D Probability in a Given Line of Sight\n",
        "\n",
        "We want to be able to compute the probability per deg$^2$ that the source is in a given direction.\n",
        "Let us take the following equatorial coordinates."
      ]
    },
    {
      "cell_type": "code",
      "metadata": {
        "id": "Ua7u0bg0r07x",
        "colab_type": "code",
        "colab": {}
      },
      "source": [
        "ra, dec = 197.45, -23.38 # Coordinates of NGC 4993"
      ],
      "execution_count": 0,
      "outputs": []
    },
    {
      "cell_type": "markdown",
      "metadata": {
        "id": "ZKIIvv9jr07z",
        "colab_type": "text"
      },
      "source": [
        "Healpy uses spherical coordinates $(\\theta, \\phi)$ with $\\theta \\in [0, \\pi]$ being the colatitude from the north celestial pole in radians, and $\\phi \\in [0, 2\\pi)$ being the right ascension in radians."
      ]
    },
    {
      "cell_type": "code",
      "metadata": {
        "id": "qbI4Hq3Br070",
        "colab_type": "code",
        "colab": {
          "base_uri": "https://localhost:8080/",
          "height": 35
        },
        "outputId": "2c0acb0d-b086-423a-de2b-c1abdf82a979"
      },
      "source": [
        "# Converting to radians\n",
        "theta = 0.5*np.pi - np.deg2rad(dec)\n",
        "phi = np.deg2rad(ra)\n",
        "theta, phi"
      ],
      "execution_count": 18,
      "outputs": [
        {
          "output_type": "execute_result",
          "data": {
            "text/plain": [
              "(1.9788543059111707, 3.4461526080628033)"
            ]
          },
          "metadata": {
            "tags": []
          },
          "execution_count": 18
        }
      ]
    },
    {
      "cell_type": "markdown",
      "metadata": {
        "id": "xZFlcn2sr072",
        "colab_type": "text"
      },
      "source": [
        "Now, we look up the index of the HEALPix pixel that contains this direction."
      ]
    },
    {
      "cell_type": "code",
      "metadata": {
        "id": "jUgKoOxJr073",
        "colab_type": "code",
        "colab": {
          "base_uri": "https://localhost:8080/",
          "height": 35
        },
        "outputId": "0fd60630-f373-4274-9553-a2591570208a"
      },
      "source": [
        "ipix = hp.ang2pix(nside, theta, phi)\n",
        "ipix"
      ],
      "execution_count": 19,
      "outputs": [
        {
          "output_type": "execute_result",
          "data": {
            "text/plain": [
              "8790214"
            ]
          },
          "metadata": {
            "tags": []
          },
          "execution_count": 19
        }
      ]
    },
    {
      "cell_type": "markdown",
      "metadata": {
        "id": "ppFsbVyor076",
        "colab_type": "text"
      },
      "source": [
        "Now, we want to compute the probability contained within this ipix pixel. (This is a repeat of what was done above.)"
      ]
    },
    {
      "cell_type": "code",
      "metadata": {
        "id": "AFSXgWcXr076",
        "colab_type": "code",
        "colab": {
          "base_uri": "https://localhost:8080/",
          "height": 35
        },
        "outputId": "da11553d-165e-4c9f-a755-0fde220a922b"
      },
      "source": [
        "dp_dA = prob[ipix]/pixarea # Probability per steradian\n",
        "dp_dA"
      ],
      "execution_count": 20,
      "outputs": [
        {
          "output_type": "execute_result",
          "data": {
            "text/plain": [
              "294.12262609641215"
            ]
          },
          "metadata": {
            "tags": []
          },
          "execution_count": 20
        }
      ]
    },
    {
      "cell_type": "code",
      "metadata": {
        "id": "OWui8-jqr079",
        "colab_type": "code",
        "colab": {
          "base_uri": "https://localhost:8080/",
          "height": 35
        },
        "outputId": "6fd1f32f-42cb-4f9b-f037-1da6c118bcd4"
      },
      "source": [
        "dp_dA_deg2 = prob[ipix]/pixarea_deg2 # Probability per deg^2\n",
        "dp_dA_deg2"
      ],
      "execution_count": 21,
      "outputs": [
        {
          "output_type": "execute_result",
          "data": {
            "text/plain": [
              "0.0895948754623799"
            ]
          },
          "metadata": {
            "tags": []
          },
          "execution_count": 21
        }
      ]
    },
    {
      "cell_type": "markdown",
      "metadata": {
        "id": "euiTT3-Tr07_",
        "colab_type": "text"
      },
      "source": [
        "## Conditional Distance Distribution along a Line of Sight\n",
        "\n",
        "Next, let us calculate the conditional distance distribution along a given line of sight. In other words, this is the probability per unit distance under the assumption that the source is in a given direction."
      ]
    },
    {
      "cell_type": "markdown",
      "metadata": {
        "id": "Eb0AklVir07_",
        "colab_type": "text"
      },
      "source": [
        "We first lay out a grid in distance along that line of sight."
      ]
    },
    {
      "cell_type": "code",
      "metadata": {
        "id": "HOH2Pw9er08A",
        "colab_type": "code",
        "colab": {}
      },
      "source": [
        "r = np.linspace(0,80,100) # Returns 100 evenly spaced numbers between 0 and 80"
      ],
      "execution_count": 0,
      "outputs": []
    },
    {
      "cell_type": "markdown",
      "metadata": {
        "id": "5d4HKQK4r08D",
        "colab_type": "text"
      },
      "source": [
        "Now, we plug everyting into the ansatz distribution. The probability that a source is within pixel $i$ and at a distance between $r$ and $r + dr$ is:\n",
        "\\begin{equation*}\n",
        "P(r, \\vec{n}_i) dr = \\rho_i \\frac{\\hat{N}_i}{\\sqrt{2\\pi}\\hat{\\sigma}_i} \\text{exp} \\left[-\\frac{(r-\\hat{\\mu}_i)^2}{2\\hat{\\sigma}_i^2} \\right] r^2 dr\n",
        "\\end{equation*}\n"
      ]
    },
    {
      "cell_type": "code",
      "metadata": {
        "id": "RFIgcSgwr08E",
        "colab_type": "code",
        "colab": {}
      },
      "source": [
        "dp_dr = r**2 * distnorm[ipix] * norm(distmu[ipix], distsigma[ipix]).pdf(r)"
      ],
      "execution_count": 0,
      "outputs": []
    },
    {
      "cell_type": "markdown",
      "metadata": {
        "id": "RTc4FP4Ar08K",
        "colab_type": "text"
      },
      "source": [
        "Now, we can plot the result."
      ]
    },
    {
      "cell_type": "code",
      "metadata": {
        "id": "oES57Hssr08L",
        "colab_type": "code",
        "colab": {
          "base_uri": "https://localhost:8080/",
          "height": 279
        },
        "outputId": "5c4f88b9-f375-4476-acf6-34e83d9833f1"
      },
      "source": [
        "plt.plot(r, dp_dr)\n",
        "plt.xlabel('distance (Mpc)')\n",
        "plt.ylabel('prob Mpc$^{-1}$')\n",
        "plt.show()"
      ],
      "execution_count": 24,
      "outputs": [
        {
          "output_type": "display_data",
          "data": {
            "image/png": "[encoded data removed]",
            "text/plain": [
              "<Figure size 432x288 with 1 Axes>"
            ]
          },
          "metadata": {
            "tags": []
          }
        }
      ]
    },
    {
      "cell_type": "markdown",
      "metadata": {
        "id": "NTxs5WUcr08O",
        "colab_type": "text"
      },
      "source": [
        "## Probability per Unit Volume at a Point "
      ]
    },
    {
      "cell_type": "markdown",
      "metadata": {
        "id": "rQGK_CCDr08O",
        "colab_type": "text"
      },
      "source": [
        "Now, we can calculate the probability density per Mpc$^3$ at a point. We can use the same right ascension and declination as above and the distance to NGC 4993, which is 40 Mpc."
      ]
    },
    {
      "cell_type": "code",
      "metadata": {
        "id": "xwcmPILmr08P",
        "colab_type": "code",
        "colab": {}
      },
      "source": [
        "r = 40"
      ],
      "execution_count": 0,
      "outputs": []
    },
    {
      "cell_type": "code",
      "metadata": {
        "id": "fJDr0WRyr08R",
        "colab_type": "code",
        "colab": {
          "base_uri": "https://localhost:8080/",
          "height": 35
        },
        "outputId": "0e313fb9-004f-43a2-e5da-83c07a854885"
      },
      "source": [
        "dp_dV = prob[ipix]*distnorm[ipix]*norm(distmu[ipix], distsigma[ipix]).pdf(r)/pixarea\n",
        "dp_dV"
      ],
      "execution_count": 26,
      "outputs": [
        {
          "output_type": "execute_result",
          "data": {
            "text/plain": [
              "0.01098675457913202"
            ]
          },
          "metadata": {
            "tags": []
          },
          "execution_count": 26
        }
      ]
    },
    {
      "cell_type": "markdown",
      "metadata": {
        "id": "urHgfnKor08V",
        "colab_type": "text"
      },
      "source": [
        "## Creating skymap plots with equatorial coordinates\n",
        "\n",
        "Now we wish to create the type of figures that appear in the LIGO/Virgo publications."
      ]
    },
    {
      "cell_type": "code",
      "metadata": {
        "id": "9DXqBNTzr08W",
        "colab_type": "code",
        "colab": {
          "base_uri": "https://localhost:8080/",
          "height": 440
        },
        "outputId": "6f1ea348-697e-4ca5-cec8-b5b831f83f6c"
      },
      "source": [
        "probperdeg2 = prob/pixarea_deg2\n",
        "hp.mollview(probperdeg2, coord=['C'], title='GW170817 LALInference', max=np.max(probperdeg2))\n",
        "hp.graticule(local=True)\n",
        "plt.show()"
      ],
      "execution_count": 27,
      "outputs": [
        {
          "output_type": "stream",
          "text": [
            "0.0 180.0 -180.0 180.0\n",
            "The interval between parallels is 30 deg -0.00'.\n",
            "The interval between meridians is 30 deg -0.00'.\n"
          ],
          "name": "stdout"
        },
        {
          "output_type": "display_data",
          "data": {
            "image/png": "[encoded data removed]",
            "text/plain": [
              "<Figure size 612x388.8 with 2 Axes>"
            ]
          },
          "metadata": {
            "tags": []
          }
        }
      ]
    },
    {
      "cell_type": "markdown",
      "metadata": {
        "id": "eVKxF__vr08Y",
        "colab_type": "text"
      },
      "source": [
        "# References\n",
        "\n",
        "Please see the following papers/supplements/software repositories for in-depth information on LIGO/Virgo skymaps.\n",
        "\n",
        "1. Going the Distance: Mapping Host Galaxies of LIGO and Virgo Sources in Three Dimensions Using Local Cosmography and Targeted Follow-up. Singer et al. iopscience.iop.org/article/10.3847/2041-8205/829/1/L15/meta\n",
        "\n",
        "2. Supplement: \"Going the Distance\". Singer et al. iopscience.iop.org/article/10.3847/0067-0049/226/1/10/meta\n",
        "\n",
        "3. https://git.ligo.org/leo-singer/ligo.skymap\n",
        "\n",
        "4. https://github.com/ggreco77/GWSky"
      ]
    }
  ]
}