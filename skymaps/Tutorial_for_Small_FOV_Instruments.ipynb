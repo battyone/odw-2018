{
  "nbformat": 4,
  "nbformat_minor": 0,
  "metadata": {
    "kernelspec": {
      "name": "python3",
      "display_name": "Python 3"
    },
    "colab": {
      "name": "Tutorial_for_Small_FOV_Instruments.ipynb",
      "provenance": []
    }
  },
  "cells": [
    {
      "cell_type": "markdown",
      "metadata": {
        "id": "eXBW_u_oyvPj",
        "colab_type": "text"
      },
      "source": [
        "# Tutorial for Small FOV Instruments\n",
        "\n",
        "In this tutorial we combine our skymaps with galaxy catalogs to get a list of galaxies for individual pointings. A note is made that this is only possible with 3D skymaps which are provided for combact binary merger candidate events."
      ]
    },
    {
      "cell_type": "markdown",
      "metadata": {
        "id": "6LWq9rYJyvPp",
        "colab_type": "text"
      },
      "source": [
        "We begin by importing the necessary packages as done previously. We will also download the 2MASS Redshift Survey galaxy catalog using VizieR."
      ]
    },
    {
      "cell_type": "code",
      "metadata": {
        "id": "IPIjefbmyvPw",
        "colab_type": "code",
        "colab": {
          "base_uri": "https://localhost:8080/",
          "height": 540
        },
        "outputId": "79d0b916-eb2b-495e-a193-d9f9b2eaca37"
      },
      "source": [
        "!pip install healpy numpy scipy astroquery astropy\n",
        "import healpy as hp # for working with HEALPix files\n",
        "import numpy as np # needed for vector operations\n",
        "from matplotlib import pyplot as plt # plotting skymaps\n",
        "from scipy.stats import norm # probability functions"
      ],
      "execution_count": 1,
      "outputs": [
        {
          "output_type": "stream",
          "text": [
            "Requirement already satisfied: healpy in /usr/local/lib/python3.6/dist-packages (1.13.0)\n",
            "Requirement already satisfied: numpy in /usr/local/lib/python3.6/dist-packages (1.17.5)\n",
            "Requirement already satisfied: scipy in /usr/local/lib/python3.6/dist-packages (1.4.1)\n",
            "Requirement already satisfied: astroquery in /usr/local/lib/python3.6/dist-packages (0.3.10)\n",
            "Requirement already satisfied: astropy in /usr/local/lib/python3.6/dist-packages (4.0)\n",
            "Requirement already satisfied: matplotlib in /usr/local/lib/python3.6/dist-packages (from healpy) (3.1.2)\n",
            "Requirement already satisfied: six in /usr/local/lib/python3.6/dist-packages (from healpy) (1.12.0)\n",
            "Requirement already satisfied: requests>=2.4.3 in /usr/local/lib/python3.6/dist-packages (from astroquery) (2.21.0)\n",
            "Requirement already satisfied: html5lib>=0.999 in /usr/local/lib/python3.6/dist-packages (from astroquery) (1.0.1)\n",
            "Requirement already satisfied: keyring>=4.0 in /usr/local/lib/python3.6/dist-packages (from astroquery) (21.1.0)\n",
            "Requirement already satisfied: beautifulsoup4>=4.3.2 in /usr/local/lib/python3.6/dist-packages (from astroquery) (4.6.3)\n",
            "Requirement already satisfied: pyparsing!=2.0.4,!=2.1.2,!=2.1.6,>=2.0.1 in /usr/local/lib/python3.6/dist-packages (from matplotlib->healpy) (2.4.6)\n",
            "Requirement already satisfied: python-dateutil>=2.1 in /usr/local/lib/python3.6/dist-packages (from matplotlib->healpy) (2.6.1)\n",
            "Requirement already satisfied: kiwisolver>=1.0.1 in /usr/local/lib/python3.6/dist-packages (from matplotlib->healpy) (1.1.0)\n",
            "Requirement already satisfied: cycler>=0.10 in /usr/local/lib/python3.6/dist-packages (from matplotlib->healpy) (0.10.0)\n",
            "Requirement already satisfied: chardet<3.1.0,>=3.0.2 in /usr/local/lib/python3.6/dist-packages (from requests>=2.4.3->astroquery) (3.0.4)\n",
            "Requirement already satisfied: idna<2.9,>=2.5 in /usr/local/lib/python3.6/dist-packages (from requests>=2.4.3->astroquery) (2.8)\n",
            "Requirement already satisfied: urllib3<1.25,>=1.21.1 in /usr/local/lib/python3.6/dist-packages (from requests>=2.4.3->astroquery) (1.24.3)\n",
            "Requirement already satisfied: certifi>=2017.4.17 in /usr/local/lib/python3.6/dist-packages (from requests>=2.4.3->astroquery) (2019.11.28)\n",
            "Requirement already satisfied: webencodings in /usr/local/lib/python3.6/dist-packages (from html5lib>=0.999->astroquery) (0.5.1)\n",
            "Requirement already satisfied: importlib-metadata; python_version < \"3.8\" in /usr/local/lib/python3.6/dist-packages (from keyring>=4.0->astroquery) (1.4.0)\n",
            "Requirement already satisfied: jeepney>=0.4.2; sys_platform == \"linux\" in /usr/local/lib/python3.6/dist-packages (from keyring>=4.0->astroquery) (0.4.2)\n",
            "Requirement already satisfied: SecretStorage>=3; sys_platform == \"linux\" in /usr/local/lib/python3.6/dist-packages (from keyring>=4.0->astroquery) (3.1.2)\n",
            "Requirement already satisfied: setuptools in /usr/local/lib/python3.6/dist-packages (from kiwisolver>=1.0.1->matplotlib->healpy) (42.0.2)\n",
            "Requirement already satisfied: zipp>=0.5 in /usr/local/lib/python3.6/dist-packages (from importlib-metadata; python_version < \"3.8\"->keyring>=4.0->astroquery) (1.0.0)\n",
            "Requirement already satisfied: cryptography in /usr/local/lib/python3.6/dist-packages (from SecretStorage>=3; sys_platform == \"linux\"->keyring>=4.0->astroquery) (2.8)\n",
            "Requirement already satisfied: more-itertools in /usr/local/lib/python3.6/dist-packages (from zipp>=0.5->importlib-metadata; python_version < \"3.8\"->keyring>=4.0->astroquery) (8.0.2)\n",
            "Requirement already satisfied: cffi!=1.11.3,>=1.8 in /usr/local/lib/python3.6/dist-packages (from cryptography->SecretStorage>=3; sys_platform == \"linux\"->keyring>=4.0->astroquery) (1.13.2)\n",
            "Requirement already satisfied: pycparser in /usr/local/lib/python3.6/dist-packages (from cffi!=1.11.3,>=1.8->cryptography->SecretStorage>=3; sys_platform == \"linux\"->keyring>=4.0->astroquery) (2.19)\n"
          ],
          "name": "stdout"
        }
      ]
    },
    {
      "cell_type": "code",
      "metadata": {
        "id": "hisSbtqDyvP4",
        "colab_type": "code",
        "colab": {}
      },
      "source": [
        "from astropy.utils.data import download_file\n",
        "url = ('https://dcc.ligo.org/public/0146/G1701985/001/LALInference_v2.fits.gz')\n",
        "# This is the publication LALInference localization\n",
        "filename = download_file(url, cache=True)"
      ],
      "execution_count": 0,
      "outputs": []
    },
    {
      "cell_type": "markdown",
      "metadata": {
        "id": "jSEQn7glyvP9",
        "colab_type": "text"
      },
      "source": [
        "We read in the probability, distmu, distsigma, and distnorm."
      ]
    },
    {
      "cell_type": "code",
      "metadata": {
        "id": "SpcjNqpSyvQA",
        "colab_type": "code",
        "colab": {
          "base_uri": "https://localhost:8080/",
          "height": 193
        },
        "outputId": "84a8832b-dd52-4d04-f276-9548d6403ef5"
      },
      "source": [
        "prob, distmu, distsigma, distnorm = hp.read_map(filename, field=range(4))"
      ],
      "execution_count": 3,
      "outputs": [
        {
          "output_type": "stream",
          "text": [
            "/usr/local/lib/python3.6/dist-packages/healpy/fitsfunc.py:352: UserWarning: If you are not specifying the input dtype and using the default np.float64 dtype of read_map(), please consider that it will change in a future version to None as to keep the same dtype of the input file: please explicitly set the dtype if it is important to you.\n",
            "  \"If you are not specifying the input dtype and using the default \"\n"
          ],
          "name": "stderr"
        },
        {
          "output_type": "stream",
          "text": [
            "NSIDE = 1024\n",
            "ORDERING = NESTED in fits file\n",
            "INDXSCHM = IMPLICIT\n",
            "Ordering converted to RING\n",
            "Ordering converted to RING\n",
            "Ordering converted to RING\n",
            "Ordering converted to RING\n"
          ],
          "name": "stdout"
        }
      ]
    },
    {
      "cell_type": "code",
      "metadata": {
        "id": "7cm2Vh-1yvQI",
        "colab_type": "code",
        "colab": {
          "base_uri": "https://localhost:8080/",
          "height": 35
        },
        "outputId": "6267409b-ebd5-4415-9cac-7ff163c6452c"
      },
      "source": [
        "npix = len(prob)\n",
        "nside = hp.npix2nside(npix)\n",
        "npix, nside"
      ],
      "execution_count": 4,
      "outputs": [
        {
          "output_type": "execute_result",
          "data": {
            "text/plain": [
              "(12582912, 1024)"
            ]
          },
          "metadata": {
            "tags": []
          },
          "execution_count": 4
        }
      ]
    },
    {
      "cell_type": "code",
      "metadata": {
        "id": "QSPLp4bvyvQN",
        "colab_type": "code",
        "colab": {}
      },
      "source": [
        "# Area per pixel in steradians\n",
        "pixarea = hp.nside2pixarea(nside)"
      ],
      "execution_count": 0,
      "outputs": []
    },
    {
      "cell_type": "code",
      "metadata": {
        "id": "LK3C-cu8yvQT",
        "colab_type": "code",
        "colab": {}
      },
      "source": [
        "from astroquery.vizier import Vizier\n",
        "Vizier.ROW_LIMIT = -1 # This gets the complete catalog\n",
        "cat1, = Vizier.get_catalogs('J/ApJS/199/26/table3') # Downloading the 2MRS Galaxy Catalog"
      ],
      "execution_count": 0,
      "outputs": []
    },
    {
      "cell_type": "markdown",
      "metadata": {
        "id": "C23Oo_wAyvQh",
        "colab_type": "text"
      },
      "source": [
        "According to Tully(2015), the 2MRS luminosity function is well fit by a Schechter function with a cutoff absolute magnitude of $M_k^* = -23.55$ and a power-law index of $\\alpha_K = -1$. We find the maximum absolute magnitude $M_k^{\\text{max}}$ for a completeness fraction of 0.5."
      ]
    },
    {
      "cell_type": "code",
      "metadata": {
        "id": "mzfKKLu-yvQj",
        "colab_type": "code",
        "colab": {
          "base_uri": "https://localhost:8080/",
          "height": 35
        },
        "outputId": "78cf75c2-4c1b-403a-a018-09625c9be8c1"
      },
      "source": [
        "from scipy.special import gammaincinv\n",
        "completeness = 0.5\n",
        "alpha = -1.0\n",
        "MK_star = -23.55\n",
        "MK_max = MK_star + 2.5*np.log10(gammaincinv(alpha + 2, completeness))\n",
        "MK_max"
      ],
      "execution_count": 7,
      "outputs": [
        {
          "output_type": "execute_result",
          "data": {
            "text/plain": [
              "-23.947936347387156"
            ]
          },
          "metadata": {
            "tags": []
          },
          "execution_count": 7
        }
      ]
    },
    {
      "cell_type": "markdown",
      "metadata": {
        "id": "1IuhLskmyvQs",
        "colab_type": "text"
      },
      "source": [
        "Now, we select only galaxies with positive redshifts and absolute magnitudes greater than $M_k^{\\text{max}}$."
      ]
    },
    {
      "cell_type": "code",
      "metadata": {
        "id": "oPRMdZAUyvQt",
        "colab_type": "code",
        "colab": {
          "base_uri": "https://localhost:8080/",
          "height": 191
        },
        "outputId": "18df9334-3bd4-4c3a-8483-04c66b368aab"
      },
      "source": [
        "from astropy.cosmology import WMAP9 as cosmo\n",
        "from astropy.table import Column\n",
        "import astropy.units as u\n",
        "import astropy.constants as c\n",
        "z = (u.Quantity(cat1['cz'])/c.c).to(u.dimensionless_unscaled)\n",
        "MK = cat1['Ktmag']-cosmo.distmod(z)\n",
        "keep = (z > 0) & (MK < MK_max)\n",
        "cat1 = cat1[keep]\n",
        "z = z[keep]"
      ],
      "execution_count": 8,
      "outputs": [
        {
          "output_type": "stream",
          "text": [
            "/usr/local/lib/python3.6/dist-packages/astropy/cosmology/core.py:1251: IntegrationWarning: The occurrence of roundoff error is detected, which prevents \n",
            "  the requested tolerance from being achieved.  The error may be \n",
            "  underestimated.\n",
            "  args=self._inv_efunc_scalar_args)[0]\n",
            "/usr/local/lib/python3.6/dist-packages/numpy/lib/function_base.py:2167: RuntimeWarning: invalid value encountered in ? (vectorized)\n",
            "  outputs = ufunc(*inputs)\n",
            "/usr/local/lib/python3.6/dist-packages/astropy/cosmology/core.py:1447: RuntimeWarning: divide by zero encountered in log10\n",
            "  val = 5. * np.log10(abs(self.luminosity_distance(z).value)) + 25.0\n",
            "/usr/local/lib/python3.6/dist-packages/astropy/table/column.py:1020: RuntimeWarning: invalid value encountered in less\n",
            "  result = getattr(super(), op)(other)\n"
          ],
          "name": "stderr"
        }
      ]
    },
    {
      "cell_type": "markdown",
      "metadata": {
        "id": "S1J15FE7yvQz",
        "colab_type": "text"
      },
      "source": [
        "Now, we calculate the luminosity distance and HEALPix index of each galaxy."
      ]
    },
    {
      "cell_type": "code",
      "metadata": {
        "id": "BKQEyFkVyvQ1",
        "colab_type": "code",
        "colab": {}
      },
      "source": [
        "r = cosmo.luminosity_distance(z).to('Mpc').value\n",
        "theta = 0.5*np.pi - cat1['DEJ2000'].to('rad').value\n",
        "phi = cat1['RAJ2000'].to('rad').value\n",
        "ipix = hp.ang2pix(nside, theta, phi)"
      ],
      "execution_count": 0,
      "outputs": []
    },
    {
      "cell_type": "markdown",
      "metadata": {
        "id": "ncnwPCs4yvQ5",
        "colab_type": "text"
      },
      "source": [
        "We find the probability density per unit volume at the position of each galaxy."
      ]
    },
    {
      "cell_type": "code",
      "metadata": {
        "id": "p62yDbbRyvQ7",
        "colab_type": "code",
        "colab": {}
      },
      "source": [
        "dp_dV = prob[ipix] * distnorm[ipix] * norm(distmu[ipix], distsigma[ipix]).pdf(r)/pixarea"
      ],
      "execution_count": 0,
      "outputs": []
    },
    {
      "cell_type": "markdown",
      "metadata": {
        "id": "bopck6mVyvRA",
        "colab_type": "text"
      },
      "source": [
        "Finally, we sort the galaxies by descending probability density and take the top 50."
      ]
    },
    {
      "cell_type": "code",
      "metadata": {
        "id": "bHSnxWZhyvRD",
        "colab_type": "code",
        "colab": {
          "base_uri": "https://localhost:8080/",
          "height": 512
        },
        "outputId": "87056b9b-4989-45b1-b574-cac646f7631e"
      },
      "source": [
        "top50 = cat1[np.flipud(np.argsort(dp_dV))][:50]\n",
        "top50['RAJ2000', 'DEJ2000', 'Ktmag']"
      ],
      "execution_count": 11,
      "outputs": [
        {
          "output_type": "execute_result",
          "data": {
            "text/html": [
              "<i>Table length=50</i>\n",
              "<table id=\"table139958991662328\" class=\"table-striped table-bordered table-condensed\">\n",
              "<thead><tr><th>RAJ2000</th><th>DEJ2000</th><th>Ktmag</th></tr></thead>\n",
              "<thead><tr><th>deg</th><th>deg</th><th>mag</th></tr></thead>\n",
              "<thead><tr><th>float64</th><th>float64</th><th>float32</th></tr></thead>\n",
              "<tr><td>197.01802</td><td>-23.79687</td><td>9.226</td></tr>\n",
              "<tr><td>199.52112</td><td>-26.83722</td><td>7.265</td></tr>\n",
              "<tr><td>199.95851</td><td>-27.41009</td><td>7.100</td></tr>\n",
              "<tr><td>196.89058</td><td>-24.00856</td><td>9.047</td></tr>\n",
              "<tr><td>202.30795</td><td>-33.17384</td><td>8.612</td></tr>\n",
              "<tr><td>200.44267</td><td>-27.43052</td><td>7.131</td></tr>\n",
              "<tr><td>194.36627</td><td>-19.69128</td><td>8.819</td></tr>\n",
              "<tr><td>202.86783</td><td>-34.79443</td><td>8.500</td></tr>\n",
              "<tr><td>201.00720</td><td>-32.34394</td><td>9.274</td></tr>\n",
              "<tr><td>...</td><td>...</td><td>...</td></tr>\n",
              "<tr><td>193.11424</td><td>-15.51861</td><td>10.080</td></tr>\n",
              "<tr><td>192.25911</td><td>-8.66435</td><td>6.489</td></tr>\n",
              "<tr><td>204.41425</td><td>-33.81136</td><td>9.610</td></tr>\n",
              "<tr><td>208.60094</td><td>-48.51253</td><td>8.323</td></tr>\n",
              "<tr><td>192.88495</td><td>-13.33003</td><td>9.401</td></tr>\n",
              "<tr><td>201.30222</td><td>-33.65552</td><td>9.816</td></tr>\n",
              "<tr><td>203.44968</td><td>-37.73177</td><td>10.294</td></tr>\n",
              "<tr><td>193.05191</td><td>-13.41473</td><td>9.831</td></tr>\n",
              "<tr><td>194.83864</td><td>-15.04217</td><td>7.451</td></tr>\n",
              "<tr><td>201.97638</td><td>-29.61802</td><td>9.128</td></tr>\n",
              "</table>"
            ],
            "text/plain": [
              "<Table length=50>\n",
              " RAJ2000   DEJ2000   Ktmag \n",
              "   deg       deg      mag  \n",
              " float64   float64  float32\n",
              "--------- --------- -------\n",
              "197.01802 -23.79687   9.226\n",
              "199.52112 -26.83722   7.265\n",
              "199.95851 -27.41009   7.100\n",
              "196.89058 -24.00856   9.047\n",
              "202.30795 -33.17384   8.612\n",
              "200.44267 -27.43052   7.131\n",
              "194.36627 -19.69128   8.819\n",
              "202.86783 -34.79443   8.500\n",
              "201.00720 -32.34394   9.274\n",
              "      ...       ...     ...\n",
              "193.11424 -15.51861  10.080\n",
              "192.25911  -8.66435   6.489\n",
              "204.41425 -33.81136   9.610\n",
              "208.60094 -48.51253   8.323\n",
              "192.88495 -13.33003   9.401\n",
              "201.30222 -33.65552   9.816\n",
              "203.44968 -37.73177  10.294\n",
              "193.05191 -13.41473   9.831\n",
              "194.83864 -15.04217   7.451\n",
              "201.97638 -29.61802   9.128"
            ]
          },
          "metadata": {
            "tags": []
          },
          "execution_count": 11
        }
      ]
    },
    {
      "cell_type": "markdown",
      "metadata": {
        "collapsed": true,
        "id": "doDZTV8ryvRI",
        "colab_type": "text"
      },
      "source": [
        "The coordinates of the first galaxy above are (197.01802, -23.79687). A pointing in this direction would likely have captured the true host galaxy of GW170817 which is (197.45, -23.38)."
      ]
    },
    {
      "cell_type": "markdown",
      "metadata": {
        "id": "QySg12U7yvRK",
        "colab_type": "text"
      },
      "source": [
        "Now, we attempt a similar down-selection but with a different galaxy catalog: the Galaxy List for the Advanced Detector Era."
      ]
    },
    {
      "cell_type": "code",
      "metadata": {
        "id": "ot07a6m4yvRL",
        "colab_type": "code",
        "colab": {
          "base_uri": "https://localhost:8080/",
          "height": 52
        },
        "outputId": "7563a0ee-ea0c-4607-bbb2-3d8633ecf523"
      },
      "source": [
        "catalog_list = Vizier.find_catalogs('GLADE')\n",
        "{k:v.description for k,v in catalog_list.items()}"
      ],
      "execution_count": 12,
      "outputs": [
        {
          "output_type": "execute_result",
          "data": {
            "text/plain": [
              "{'VII/275': 'GLADE catalog (Dalya+, 2016)',\n",
              " 'VII/281': 'GLADE v2.3 catalog (Dalya+, 2018)'}"
            ]
          },
          "metadata": {
            "tags": []
          },
          "execution_count": 12
        }
      ]
    },
    {
      "cell_type": "code",
      "metadata": {
        "id": "PiAEqp6nyvRP",
        "colab_type": "code",
        "colab": {
          "base_uri": "https://localhost:8080/",
          "height": 69
        },
        "outputId": "143c1578-922b-4852-a618-fd7e87a75981"
      },
      "source": [
        "catalogs = Vizier.get_catalogs(catalog_list.keys())\n",
        "catalogs"
      ],
      "execution_count": 13,
      "outputs": [
        {
          "output_type": "execute_result",
          "data": {
            "text/plain": [
              "TableList with 2 tables:\n",
              "\t'0:VII/275/glade1' with 31 column(s) and 1918147 row(s) \n",
              "\t'1:VII/281/glade2' with 17 column(s) and 3262881 row(s) "
            ]
          },
          "metadata": {
            "tags": []
          },
          "execution_count": 13
        }
      ]
    },
    {
      "cell_type": "code",
      "metadata": {
        "id": "qANDf7wnyvRV",
        "colab_type": "code",
        "colab": {}
      },
      "source": [
        "Vizier.ROW_LIMIT = 50000\n",
        "# Note, the GLADE catalog is 1,918,147 rows long thus we will get a memory error if we set the row limit to -1\n",
        "cat2, = Vizier.get_catalogs('VII/275/glade1') # Downloading the GLADE catalog (Galaxy List for the Advanced Detector Era)"
      ],
      "execution_count": 0,
      "outputs": []
    },
    {
      "cell_type": "markdown",
      "metadata": {
        "id": "G-5bjFfWyvRa",
        "colab_type": "text"
      },
      "source": [
        "According to Gehrels et al(2016), the GLADE luminosity function is well fit by a Schechter function with a cutoff absolute magnitude of $M_k^* = -20.47$ and a power-law index of $\\alpha_K = -1.07$. We find the maximum absolute magnitude $M_k^{\\text{max}}$ for a completeness fraction of 0.5."
      ]
    },
    {
      "cell_type": "code",
      "metadata": {
        "id": "nWAQStknyvRb",
        "colab_type": "code",
        "colab": {
          "base_uri": "https://localhost:8080/",
          "height": 35
        },
        "outputId": "e170b2ac-80ef-4b49-99fc-8da3d0e54e7a"
      },
      "source": [
        "completeness = 0.5\n",
        "alpha = -1.07\n",
        "MK_star = -20.47\n",
        "MK_max = MK_star + 2.5*np.log10(gammaincinv(alpha + 2, completeness))\n",
        "MK_max"
      ],
      "execution_count": 15,
      "outputs": [
        {
          "output_type": "execute_result",
          "data": {
            "text/plain": [
              "-20.979304092571255"
            ]
          },
          "metadata": {
            "tags": []
          },
          "execution_count": 15
        }
      ]
    },
    {
      "cell_type": "code",
      "metadata": {
        "id": "w8BwdKpSyvRg",
        "colab_type": "code",
        "colab": {}
      },
      "source": [
        "dist = u.Quantity(cat2['Dist']) # Distance in Mpc\n",
        "z = (u.Quantity(cat2['zph2MPZ'])).to(u.dimensionless_unscaled)\n",
        "MK = cat2['Kmag2']-cosmo.distmod(z)\n",
        "keep = (z > 0) & (MK < MK_max)\n",
        "cat2 = cat2[keep]\n",
        "dist = dist[keep]"
      ],
      "execution_count": 0,
      "outputs": []
    },
    {
      "cell_type": "code",
      "metadata": {
        "id": "fhcaqRgmyvRp",
        "colab_type": "code",
        "colab": {}
      },
      "source": [
        "r = dist.value\n",
        "theta = 0.5*np.pi - cat2['DEJ2000'].to('rad').value\n",
        "phi = cat2['RAJ2000'].to('rad').value\n",
        "ipix = hp.ang2pix(nside, theta, phi)"
      ],
      "execution_count": 0,
      "outputs": []
    },
    {
      "cell_type": "code",
      "metadata": {
        "id": "rAS2GZmGyvR_",
        "colab_type": "code",
        "colab": {}
      },
      "source": [
        "dp_dV = prob[ipix] * distnorm[ipix] * norm(distmu[ipix], distsigma[ipix]).pdf(r)/pixarea"
      ],
      "execution_count": 0,
      "outputs": []
    },
    {
      "cell_type": "code",
      "metadata": {
        "id": "KzzPkaofyvSF",
        "colab_type": "code",
        "colab": {
          "base_uri": "https://localhost:8080/",
          "height": 512
        },
        "outputId": "b66e2bcc-ea0a-45df-cf17-26f438c87df8"
      },
      "source": [
        "top50 = cat2[np.flipud(np.argsort(dp_dV))][:50]\n",
        "top50['RAJ2000', 'DEJ2000', 'Kmag2']"
      ],
      "execution_count": 19,
      "outputs": [
        {
          "output_type": "execute_result",
          "data": {
            "text/html": [
              "<i>Table length=50</i>\n",
              "<table id=\"table139958985244120\" class=\"table-striped table-bordered table-condensed\">\n",
              "<thead><tr><th>RAJ2000</th><th>DEJ2000</th><th>Kmag2</th></tr></thead>\n",
              "<thead><tr><th>deg</th><th>deg</th><th>mag</th></tr></thead>\n",
              "<thead><tr><th>float64</th><th>float64</th><th>float32</th></tr></thead>\n",
              "<tr><td>199.958435</td><td>-27.410082</td><td>7.151</td></tr>\n",
              "<tr><td>199.521057</td><td>-26.837221</td><td>7.366</td></tr>\n",
              "<tr><td>193.998657</td><td>-19.268990</td><td>12.227</td></tr>\n",
              "<tr><td>193.830368</td><td>-14.949816</td><td>12.506</td></tr>\n",
              "<tr><td>200.442673</td><td>-27.430519</td><td>7.421</td></tr>\n",
              "<tr><td>202.954483</td><td>-33.239475</td><td>11.004</td></tr>\n",
              "<tr><td>201.409256</td><td>-30.161926</td><td>13.008</td></tr>\n",
              "<tr><td>202.307953</td><td>-33.173840</td><td>8.883</td></tr>\n",
              "<tr><td>203.777832</td><td>-33.481030</td><td>10.089</td></tr>\n",
              "<tr><td>...</td><td>...</td><td>...</td></tr>\n",
              "<tr><td>193.956802</td><td>-12.055349</td><td>8.603</td></tr>\n",
              "<tr><td>193.111938</td><td>-9.754002</td><td>11.167</td></tr>\n",
              "<tr><td>193.648743</td><td>-12.568590</td><td>7.834</td></tr>\n",
              "<tr><td>194.854004</td><td>-15.286558</td><td>14.562</td></tr>\n",
              "<tr><td>198.809097</td><td>-32.253910</td><td>12.462</td></tr>\n",
              "<tr><td>192.337173</td><td>-9.504754</td><td>12.445</td></tr>\n",
              "<tr><td>190.187241</td><td>-5.302535</td><td>11.578</td></tr>\n",
              "<tr><td>193.598953</td><td>-10.537218</td><td>8.780</td></tr>\n",
              "<tr><td>189.997894</td><td>-11.623070</td><td>5.009</td></tr>\n",
              "<tr><td>196.471619</td><td>-25.587393</td><td>14.030</td></tr>\n",
              "</table>"
            ],
            "text/plain": [
              "<Table length=50>\n",
              " RAJ2000    DEJ2000    Kmag2 \n",
              "   deg        deg       mag  \n",
              " float64    float64   float32\n",
              "---------- ---------- -------\n",
              "199.958435 -27.410082   7.151\n",
              "199.521057 -26.837221   7.366\n",
              "193.998657 -19.268990  12.227\n",
              "193.830368 -14.949816  12.506\n",
              "200.442673 -27.430519   7.421\n",
              "202.954483 -33.239475  11.004\n",
              "201.409256 -30.161926  13.008\n",
              "202.307953 -33.173840   8.883\n",
              "203.777832 -33.481030  10.089\n",
              "       ...        ...     ...\n",
              "193.956802 -12.055349   8.603\n",
              "193.111938  -9.754002  11.167\n",
              "193.648743 -12.568590   7.834\n",
              "194.854004 -15.286558  14.562\n",
              "198.809097 -32.253910  12.462\n",
              "192.337173  -9.504754  12.445\n",
              "190.187241  -5.302535  11.578\n",
              "193.598953 -10.537218   8.780\n",
              "189.997894 -11.623070   5.009\n",
              "196.471619 -25.587393  14.030"
            ]
          },
          "metadata": {
            "tags": []
          },
          "execution_count": 19
        }
      ]
    },
    {
      "cell_type": "markdown",
      "metadata": {
        "id": "O7b1FHUMyvSL",
        "colab_type": "text"
      },
      "source": [
        "We can use many different algorithms to prioritize galaxies. Here is an outline used by the Las Cumbres Observatory for following-up on GW170817.\n",
        "\n",
        "Step 1: Compute the probability the source being at a distance $D$ for a certain right ascension and declination. Compute the location score of a galaxy: $S_{\\text{loc}} = p_{\\text{pos}} \\times p_{\\text{dist}}$.\n",
        "\n",
        "Step 2: Using the $B$-band magnitude and distance provided in the catalog, calculate the $B$-band luminosity of the galaxy: $L_B$.\n",
        "\n",
        "Step 3: Assuming a limiting magnitude for exposures, $m_{\\text{lim}}$, convert to a limiting luminosity at the distance of each galaxy, $L_{\\text{lim}}$. Assign the galaxy a score: $S_{\\text{lum}} = \\frac{L_B}{\\Sigma L_B}$\n",
        "\n",
        "Step 4: Define the likely counterpart magnitude range, $M_{\\text{KN,min}} - M_{\\text{KN,max}}$ and convert those magnitudes to luminosities.\n",
        "\n",
        "Step 5: Give each galaxy a detection likelihood score: $S_\\text{det} = \\frac{L_{\\text{KN,max}} - L_{\\text{lim}}}{L_{\\text{KN,max}} - L_{\\text{KN,min}}}$."
      ]
    }
  ]
}