{
 "cells": [
  {
   "cell_type": "markdown",
   "metadata": {
    "colab_type": "text",
    "id": "view-in-github"
   },
   "source": [
    "<a href=\"https://colab.research.google.com/github/jkanner/odw-2018/blob/master/gwpy/0%20-%20GWOSC%20python.ipynb\" target=\"_parent\"><img src=\"https://colab.research.google.com/assets/colab-badge.svg\" alt=\"Open In Colab\"/></a>"
   ]
  },
  {
   "cell_type": "markdown",
   "metadata": {
    "colab_type": "text",
    "id": "KMav9ZzggGdn"
   },
   "source": [
    "# Query the OpenScience datasets using `gwosc`\n",
    "\n",
    "This pre-tutorial describes how you can use the [`gwosc`](//gwosc.readthedocs.io) python module to search for GW open data information.\n",
    "\n",
    "First, lets install it:"
   ]
  },
  {
   "cell_type": "code",
   "execution_count": 1,
   "metadata": {
    "colab": {
     "base_uri": "https://localhost:8080/",
     "height": 104
    },
    "colab_type": "code",
    "id": "tGR8iS2QgGdo",
    "outputId": "fb23e3ae-129a-47b1-a095-b6c79099ec36"
   },
   "outputs": [],
   "source": [
    "# -- For Google Colab\n",
    "#! pip install 'gwosc==0.4.3'"
   ]
  },
  {
   "cell_type": "markdown",
   "metadata": {
    "colab_type": "text",
    "id": "GPjyWuDPgGdw"
   },
   "source": [
    "## Querying for event information\n",
    "\n",
    "The `gwosc.datasets` module provides tools to search for datasets, including filtering on GPS times.\n",
    "\n",
    "For example, we can search for what event datasets are available:"
   ]
  },
  {
   "cell_type": "code",
   "execution_count": 2,
   "metadata": {
    "colab": {
     "base_uri": "https://localhost:8080/",
     "height": 55
    },
    "colab_type": "code",
    "id": "j4gaVcLsgGdy",
    "outputId": "affdd8c5-ec4f-4636-d9c5-63dbd4c78741"
   },
   "outputs": [
    {
     "name": "stdout",
     "output_type": "stream",
     "text": [
      "['151008', '151012A', '151116', '161202', '161217', '170208', '170219', '170405', '170412', '170423', '170616', '170630', '170705', '170720', 'GW150914', 'GW151012', 'GW151226', 'GW170104', 'GW170608', 'GW170729', 'GW170809', 'GW170814', 'GW170817', 'GW170818', 'GW170823']\n"
     ]
    }
   ],
   "source": [
    "from gwosc.datasets import find_datasets\n",
    "events = find_datasets(type='event')\n",
    "print(events)"
   ]
  },
  {
   "cell_type": "markdown",
   "metadata": {
    "colab_type": "text",
    "id": "0cdHnvVMgGd1"
   },
   "source": [
    "Here we see the list of confirmed detections (those prefixed as 'GW') and one likely detection (prefixed as 'LVT'). `find_datasets` also accepts a `detector` keyword to return only those datasets that include data for that detector."
   ]
  },
  {
   "cell_type": "markdown",
   "metadata": {
    "colab_type": "text",
    "id": "62YVfHV_gGd2"
   },
   "source": [
    "We can query for the GPS time of a given event:"
   ]
  },
  {
   "cell_type": "code",
   "execution_count": 3,
   "metadata": {
    "colab": {
     "base_uri": "https://localhost:8080/",
     "height": 35
    },
    "colab_type": "code",
    "id": "pLFVUE8lgGd3",
    "outputId": "7021ecd1-4cdd-48b9-cd28-24555ac83b81"
   },
   "outputs": [
    {
     "name": "stdout",
     "output_type": "stream",
     "text": [
      "1187008882.4\n"
     ]
    }
   ],
   "source": [
    "from gwosc.datasets import event_gps\n",
    "gps = event_gps('GW170817')\n",
    "print(gps)"
   ]
  },
  {
   "cell_type": "markdown",
   "metadata": {
    "colab_type": "text",
    "id": "eT7dDQmMgGd7"
   },
   "source": [
    "<div class=\"alert alert-info\">All of these times are returned in the GPS time system, which counts the number of seconds that have elapsed since the start of the GPS epoch at midnight (00:00) on January 6th 1980. LOSC provides a <a href=\"https://losc.ligo.org/gps/\">GPS time converter</a> you can use to translate into datetime, or you can use <a href=\"https://gwpy.github.io/docs/stable/time/\"><code>gwpy.time</code></a>.</div>"
   ]
  },
  {
   "cell_type": "markdown",
   "metadata": {
    "colab_type": "text",
    "id": "jI5YMjzigGd9"
   },
   "source": [
    "We can query for the GPS time interval for an observing run:"
   ]
  },
  {
   "cell_type": "code",
   "execution_count": 4,
   "metadata": {
    "colab": {
     "base_uri": "https://localhost:8080/",
     "height": 35
    },
    "colab_type": "code",
    "id": "0PazM-_tgGd-",
    "outputId": "db77b452-5f2d-427c-bd25-65ec774cdadf"
   },
   "outputs": [
    {
     "name": "stdout",
     "output_type": "stream",
     "text": [
      "(931035615, 971622015)\n"
     ]
    }
   ],
   "source": [
    "from gwosc.datasets import run_segment\n",
    "print(run_segment('S6'))"
   ]
  },
  {
   "cell_type": "markdown",
   "metadata": {
    "colab_type": "text",
    "id": "SfrPzaAhgGeB"
   },
   "source": [
    "## Querying for data files\n",
    "\n",
    "### Events during O1\n",
    "\n",
    "The `gwosc.locate` module provides a function to find the URLs of data files associated with a given dataset.\n",
    "\n",
    "For event datasets, one can get the list of URLs using only the event name:"
   ]
  },
  {
   "cell_type": "code",
   "execution_count": 5,
   "metadata": {
    "colab": {
     "base_uri": "https://localhost:8080/",
     "height": 55
    },
    "colab_type": "code",
    "id": "J-qoAFFLgGeC",
    "outputId": "cb547483-2b74-4833-c70f-1234baa00eb5"
   },
   "outputs": [
    {
     "name": "stdout",
     "output_type": "stream",
     "text": [
      "['https://www.gw-osc.org/catalog/GWTC-1-confident/data/GW150914/H-H1_GWOSC_4KHZ_R1-1126259447-32.hdf5', 'https://www.gw-osc.org/catalog/GWTC-1-confident/data/GW150914/L-L1_GWOSC_4KHZ_R1-1126259447-32.hdf5', 'https://www.gw-osc.org/catalog/GWTC-1-confident/data/GW150914/H-H1_GWOSC_4KHZ_R1-1126257415-4096.hdf5', 'https://www.gw-osc.org/catalog/GWTC-1-confident/data/GW150914/L-L1_GWOSC_4KHZ_R1-1126257415-4096.hdf5']\n"
     ]
    }
   ],
   "source": [
    "from gwosc.locate import get_event_urls\n",
    "urls = get_event_urls('GW150914')\n",
    "print(urls)"
   ]
  },
  {
   "cell_type": "markdown",
   "metadata": {
    "colab_type": "text",
    "id": "eLNp8lNVgGeF"
   },
   "source": [
    "By default, this function returns all of the files associated with a given event, which isn't particularly helpful. However, we can can filter on any of these by using keyword arguments, for example to get the URL for the 32-second file for the LIGO-Livingston detector:"
   ]
  },
  {
   "cell_type": "code",
   "execution_count": 6,
   "metadata": {
    "colab": {
     "base_uri": "https://localhost:8080/",
     "height": 35
    },
    "colab_type": "code",
    "id": "sadGimR9gGeG",
    "outputId": "796e7da1-07cf-4a72-ff20-ba9eed345bc6"
   },
   "outputs": [
    {
     "name": "stdout",
     "output_type": "stream",
     "text": [
      "['https://www.gw-osc.org/catalog/GWTC-1-confident/data/GW150914/L-L1_GWOSC_4KHZ_R1-1126259447-32.hdf5']\n"
     ]
    }
   ],
   "source": [
    "urls = get_event_urls('GW150914', duration=32, detector='L1')\n",
    "print(urls)"
   ]
  },
  {
   "cell_type": "markdown",
   "metadata": {
    "colab_type": "text",
    "id": "QJhtVUGHgGeJ"
   },
   "source": [
    "### Events during O2\n",
    "\n",
    "For events during O2 (and beyond), we can also the list of URLs"
   ]
  },
  {
   "cell_type": "code",
   "execution_count": 7,
   "metadata": {
    "colab": {
     "base_uri": "https://localhost:8080/",
     "height": 55
    },
    "colab_type": "code",
    "id": "yuCOpAgegGeJ",
    "outputId": "902f3bdc-c91d-40c4-eedf-afd6820530b8"
   },
   "outputs": [
    {
     "name": "stdout",
     "output_type": "stream",
     "text": [
      "['https://www.gw-osc.org/catalog/GWTC-1-confident/data/GW170817/G-G1_GWOSC_4KHZ_R1-1187008867-32.hdf5', 'https://www.gw-osc.org/catalog/GWTC-1-confident/data/GW170817/H-H1_GWOSC_4KHZ_R1-1187008867-32.hdf5', 'https://www.gw-osc.org/catalog/GWTC-1-confident/data/GW170817/L-L1_GWOSC_4KHZ_R1-1187008867-32.hdf5', 'https://www.gw-osc.org/catalog/GWTC-1-confident/data/GW170817/V-V1_GWOSC_4KHZ_R1-1187008867-32.hdf5', 'https://www.gw-osc.org/catalog/GWTC-1-confident/data/GW170817/G-G1_GWOSC_4KHZ_R1-1187006835-4096.hdf5', 'https://www.gw-osc.org/catalog/GWTC-1-confident/data/GW170817/H-H1_GWOSC_4KHZ_R1-1187006835-4096.hdf5', 'https://www.gw-osc.org/catalog/GWTC-1-confident/data/GW170817/L-L1_GWOSC_4KHZ_R1-1187006835-4096.hdf5', 'https://www.gw-osc.org/catalog/GWTC-1-confident/data/GW170817/V-V1_GWOSC_4KHZ_R1-1187006835-4096.hdf5']\n"
     ]
    }
   ],
   "source": [
    "urls = get_event_urls('GW170817')\n",
    "print(urls)"
   ]
  },
  {
   "cell_type": "markdown",
   "metadata": {
    "colab_type": "text",
    "id": "PmHT2v-vgGeT"
   },
   "source": [
    "We could select one with keywords:"
   ]
  },
  {
   "cell_type": "code",
   "execution_count": 8,
   "metadata": {
    "colab": {
     "base_uri": "https://localhost:8080/",
     "height": 35
    },
    "colab_type": "code",
    "id": "PsDLyG7AgGeU",
    "outputId": "6382efff-68a2-4fb4-b8ec-56cdb5ae1244"
   },
   "outputs": [
    {
     "name": "stdout",
     "output_type": "stream",
     "text": [
      "['https://www.gw-osc.org/catalog/GWTC-1-confident/data/GW170817/V-V1_GWOSC_4KHZ_R1-1187006835-4096.hdf5']\n"
     ]
    }
   ],
   "source": [
    "urls = get_event_urls('GW170817', duration=4096, detector='V1')\n",
    "print(urls)"
   ]
  },
  {
   "cell_type": "markdown",
   "metadata": {
    "colab_type": "text",
    "id": "vIH0eg6LgGeW"
   },
   "source": [
    "# Exercises\n",
    "\n",
    "Now that you've seen examples of how to query for dataset information using the `gwosc` package, please try and complete the following exercies using that interface:\n",
    "\n",
    "- How many months did S6 last?\n",
    "- How many events were detected during O1?\n",
    "- Which event releases include data for the Virgo detector?"
   ]
  }
 ],
 "metadata": {
  "colab": {
   "include_colab_link": true,
   "name": "0 - GWOSC python.ipynb",
   "provenance": []
  },
  "kernelspec": {
   "display_name": "Python 3",
   "language": "python",
   "name": "python3"
  },
  "language_info": {
   "codemirror_mode": {
    "name": "ipython",
    "version": 3
   },
   "file_extension": ".py",
   "mimetype": "text/x-python",
   "name": "python",
   "nbconvert_exporter": "python",
   "pygments_lexer": "ipython3",
   "version": "3.7.3"
  }
 },
 "nbformat": 4,
 "nbformat_minor": 1
}
