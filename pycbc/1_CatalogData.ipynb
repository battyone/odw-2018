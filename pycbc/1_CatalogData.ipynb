{
 "cells": [
  {
   "cell_type": "markdown",
   "metadata": {
    "Collapsed": "false",
    "colab_type": "text",
    "id": "NooqWUEHj8xf"
   },
   "source": [
    "## 1. PyCBC Tutorial: Accessing the Catalog of Binary Mergers and LIGO/Virgo Open Data\n",
    "\n",
    "We will be using the [PyCBC](http://github.com/ligo-cbc/pycbc) library, which is used to study gravitational-wave data, find astrophysical sources due to compact binary mergers, and study their parameters. These are some of the same tools that the LIGO and Virgo collaborations use to find gravitational waves in LIGO/Virgo data \n",
    "\n",
    "In this tutorial we will walk through how to get information about the catalog of binary mergers programmatically, and also how to read in detector strain data around each event, or from the full open data set released for LIGO's first observing run.\n",
    "\n",
    "Additional [examples](http://pycbc.org/pycbc/latest/html/#library-examples-and-interactive-tutorials) and module level documentation are [here](http://pycbc.org/pycbc/latest/html/py-modindex.html)"
   ]
  },
  {
   "cell_type": "markdown",
   "metadata": {
    "Collapsed": "false",
    "colab_type": "text",
    "id": "ad5oK8gUj8xj"
   },
   "source": [
    "#### Getting the software environment setup\n",
    "\n",
    "PyCBC is installable through pip, but also relies on portions of the [LALSuite]() c-library. A bundled version of this suitable for use with PyCBC is also available on Mac / Linux through pip. These can be installed as follows within the notebook."
   ]
  },
  {
   "cell_type": "code",
   "execution_count": 2,
   "metadata": {
    "Collapsed": "false",
    "colab": {
     "base_uri": "https://localhost:8080/",
     "height": 607
    },
    "colab_type": "code",
    "id": "T-Em_h1Pj8xk",
    "outputId": "01ca8948-ed8e-49e8-f673-6b98a2cf25fd"
   },
   "outputs": [],
   "source": [
    "# -- For Google Colab\n",
    "#! pip install -q \"lalsuite=6.67\" \"pycbc=1.15.3\"\n",
    "\n",
    "%matplotlib inline"
   ]
  },
  {
   "cell_type": "markdown",
   "metadata": {
    "Collapsed": "false",
    "colab_type": "text",
    "id": "q3e73aJ1j8xp"
   },
   "source": [
    "### 1.1 Catalog of Binary Mergers\n",
    "\n",
    "PyCBC provides an [API](http://pycbc.org/pycbc/latest/html/catalog.html) to look at the catalog of binary mergers a few examples below. Some key information, such as the 'chirp' mass of a binary merge can be retrieved."
   ]
  },
  {
   "cell_type": "markdown",
   "metadata": {
    "Collapsed": "false",
    "colab_type": "text",
    "id": "FJxOAdJQj8xq"
   },
   "source": [
    "#### What binary mergers are in the catalog? ####"
   ]
  },
  {
   "cell_type": "code",
   "execution_count": 3,
   "metadata": {
    "Collapsed": "false",
    "colab": {
     "base_uri": "https://localhost:8080/",
     "height": 208
    },
    "colab_type": "code",
    "id": "N1RMgye0j8xr",
    "outputId": "3488c556-641c-4284-903a-eeef8bdabe43"
   },
   "outputs": [
    {
     "name": "stdout",
     "output_type": "stream",
     "text": [
      "GW150914\n",
      "GW151012\n",
      "GW151226\n",
      "GW170104\n",
      "GW170608\n",
      "GW170729\n",
      "GW170809\n",
      "GW170814\n",
      "GW170817\n",
      "GW170818\n",
      "GW170823\n"
     ]
    }
   ],
   "source": [
    "from pycbc import catalog\n",
    "\n",
    "### List the mergers in the catalog\n",
    "for merger_name in catalog.Catalog():\n",
    "    print(merger_name)"
   ]
  },
  {
   "cell_type": "markdown",
   "metadata": {
    "Collapsed": "false",
    "colab_type": "text",
    "id": "dlmoTMSej8xv"
   },
   "source": [
    "#### How can I get parameters? ####\n",
    "\n",
    "One can also retrieve some of the basic parameters of each source\n",
    "from the catalog directly as follows. Note that all parameters are given\n",
    "in the *source* frame. This means that they include the effect of redshift."
   ]
  },
  {
   "cell_type": "code",
   "execution_count": 4,
   "metadata": {
    "Collapsed": "false",
    "colab": {
     "base_uri": "https://localhost:8080/",
     "height": 107
    },
    "colab_type": "code",
    "id": "8kvh_0Fgj8xw",
    "outputId": "f2561aa6-a4b9-4af9-a239-3b9b5a9954ae"
   },
   "outputs": [
    {
     "name": "stdout",
     "output_type": "stream",
     "text": [
      "[28.6   15.2    8.9   21.5    7.9   35.7   25.    24.2    1.186 26.7\n",
      " 29.3  ]\n",
      "GW170817: 1.186\n",
      "dict_keys(['E_rad', 'L_peak', 'a_final', 'chi_eff', 'distance', 'far_cwb', 'far_gstlal', 'far_pycbc', 'files', 'mass1', 'mass2', 'mchirp', 'mfinal', 'redshift', 'sky_size', 'snr_cwb', 'snr_gstlal', 'snr_pycbc', 'tc', 'utctime'])\n"
     ]
    }
   ],
   "source": [
    "# Either from the catalog as a whole\n",
    "c = catalog.Catalog()\n",
    "mchirp = c.median1d('mchirp')\n",
    "print(mchirp)\n",
    "\n",
    "# or from a specific merger\n",
    "m = catalog.Merger(\"GW170817\")\n",
    "mchirp_gw170817 = m.median1d('mchirp')\n",
    "print('GW170817: {}'.format(mchirp_gw170817))\n",
    "\n",
    "# print parameters that can be read\n",
    "print (m.data.keys())"
   ]
  },
  {
   "cell_type": "markdown",
   "metadata": {
    "Collapsed": "false",
    "colab_type": "text",
    "id": "G3T0svB4j8xz"
   },
   "source": [
    "#### Transform Mass Parameters into the Detector Frame\n",
    "\n",
    "By default the above interface returns parameters in the *source* frame. Due to cosmological redshift, gravitational-waves are stretched as they travel. This causes the observed waveform to be different in the detector frame. This corresponds to an observed change in the mass parameters (for example). However, the relationship is fairly straighforward."
   ]
  },
  {
   "cell_type": "code",
   "execution_count": 5,
   "metadata": {
    "Collapsed": "false",
    "colab": {
     "base_uri": "https://localhost:8080/",
     "height": 69
    },
    "colab_type": "code",
    "id": "6aqRTWrpj8x0",
    "outputId": "b8a06b73-b3d5-4751-99ee-d592b848bb6d"
   },
   "outputs": [
    {
     "name": "stdout",
     "output_type": "stream",
     "text": [
      "Chirp Mass of GW150914\n",
      "Source Frame: 28.6 Solar Masses\n",
      "Detector Frame: 31.174000000000003 Solar Masses\n"
     ]
    }
   ],
   "source": [
    "m = catalog.Merger('GW150914')\n",
    "source_mchirp = m.median1d('mchirp')\n",
    "redshift = m.median1d('redshift')\n",
    "det_mchirp = source_mchirp * (1 + redshift)\n",
    "\n",
    "print('Chirp Mass of GW150914')\n",
    "print('Source Frame: {} Solar Masses'.format(source_mchirp))\n",
    "print('Detector Frame: {} Solar Masses'.format(det_mchirp))"
   ]
  },
  {
   "cell_type": "markdown",
   "metadata": {
    "Collapsed": "false",
    "colab_type": "text",
    "id": "1ru0hk2mj8x3"
   },
   "source": [
    "### 1.2 Accessing LIGO/Virgo data\n",
    "\n",
    "In this section, we will look into how to read detector data from the LIGO and Virgo instruments using the PyCBC API. It is possible to both get data around specific events, and also from the full data sets which have been released which cover the S5/S6/O1 LIGO observing runs. Data will be returned as [pycbc TimeSeries objects.](http://pycbc.org/pycbc/latest/html/pycbc.types.html#pycbc.types.timeseries.TimeSeries)"
   ]
  },
  {
   "cell_type": "markdown",
   "metadata": {
    "Collapsed": "false",
    "colab_type": "text",
    "id": "aKz1FAL6j8x4"
   },
   "source": [
    "#### Getting Data Around  Specific Binary Merger in the Catalog\n",
    "\n",
    "One can directly retrieve data around a specific even. Typically this data is centered on the event, though restrictions may apply which have not allowed this. This method by default gets the smallest version of the dataset. If additional data or specific versions are required, please see the following two additional ways to access data."
   ]
  },
  {
   "cell_type": "code",
   "execution_count": 6,
   "metadata": {
    "Collapsed": "false",
    "colab": {
     "base_uri": "https://localhost:8080/",
     "height": 307
    },
    "colab_type": "code",
    "id": "BDHEoBP-j8x5",
    "outputId": "dbef0400-5395-4539-b084-a42f353d0e8c"
   },
   "outputs": [
    {
     "name": "stdout",
     "output_type": "stream",
     "text": [
      "Duration: 32.0s Start: 1126259447 End: 1126259479\n"
     ]
    },
    {
     "data": {
      "image/png": "[encoded data removed]",
      "text/plain": [
       "<Figure size 432x288 with 1 Axes>"
      ]
     },
     "metadata": {
      "needs_background": "light"
     },
     "output_type": "display_data"
    }
   ],
   "source": [
    "import pylab\n",
    "\n",
    "m = catalog.Merger(\"GW150914\")\n",
    "\n",
    "# Get the time series data around GW150914 from Hanford\n",
    "# 'ts_han' is a pycbc.types.TimeSeries object which contains\n",
    "# gravitational-wave strain in this instance and has metadata\n",
    "# such as the start time, and sample rate.\n",
    "ts_han = m.strain('H1')\n",
    "\n",
    "# And now livingston\n",
    "ts_liv = m.strain('L1')\n",
    "\n",
    "# We can see how much data was returned and its boundaries\n",
    "# Note: All times are given in seconds since the GPS time epoch\n",
    "print(\"Duration: {}s Start: {} End: {}\".format(ts_han.duration, \n",
    "                                              int(ts_han.start_time),\n",
    "                                              int(ts_han.end_time)))\n",
    "\n",
    "# We can directly plot the time series as follows\n",
    "pylab.plot(ts_han.sample_times, ts_han)\n",
    "pylab.ylabel('Strain')\n",
    "pylab.xlabel('Time (s)')\n",
    "pylab.show()"
   ]
  },
  {
   "cell_type": "markdown",
   "metadata": {
    "Collapsed": "false",
    "colab_type": "text",
    "id": "CFuphi2zj8x8"
   },
   "source": [
    "#### Getting Data from S5 / S6 / O1\n",
    "\n",
    "In this section we show how to read data from the bulk data release by LIGO. This currently covers the periods of teh S5, S6, and O1 analyses."
   ]
  },
  {
   "cell_type": "code",
   "execution_count": 7,
   "metadata": {
    "Collapsed": "false",
    "colab": {
     "base_uri": "https://localhost:8080/",
     "height": 35
    },
    "colab_type": "code",
    "id": "O8d0wRP7j8x9",
    "outputId": "f4f43aa2-db90-4c57-afbe-555551a4ae1b"
   },
   "outputs": [
    {
     "name": "stdout",
     "output_type": "stream",
     "text": [
      "Returned 64.0s of data at 4096Hz\n"
     ]
    }
   ],
   "source": [
    "from pycbc.frame import query_and_read_frame\n",
    "\n",
    "# Retrieve the approximate time of the merger\n",
    "m = catalog.Merger(\"GW150914\")\n",
    "start = m.time - 32\n",
    "end = m.time + 32\n",
    "\n",
    "# Get 64 seconds of data roughly around GW150914\n",
    "# The start / end time may be any in the publicly available data sets.\n",
    "ts = query_and_read_frame('LOSC', 'H1:LOSC-STRAIN', start, end)\n",
    "\n",
    "# If we wanted to retreive data from the Livingston detector\n",
    "# we'd use the following command instead\n",
    "# ts = query_and_read_frame('LOSC', 'L1:LOSC-STRAIN', start, end)\n",
    "\n",
    "print(\"Returned {}s of data at {}Hz\".format(ts.duration, ts.sample_rate))"
   ]
  },
  {
   "cell_type": "markdown",
   "metadata": {
    "Collapsed": "false",
    "colab_type": "text",
    "id": "S7TWTi4Ej8yA"
   },
   "source": [
    "#### Directly Reading gravitational-wave Frame Files\n",
    "\n",
    "If you store LIGO data on your own computer then you can directly read in the data as follows."
   ]
  },
  {
   "cell_type": "code",
   "execution_count": 8,
   "metadata": {
    "Collapsed": "false",
    "colab": {
     "base_uri": "https://localhost:8080/",
     "height": 69
    },
    "colab_type": "code",
    "id": "PFKIyBctj8yC",
    "outputId": "440821d2-66e8-45e8-cfa1-b86ac321a1b3"
   },
   "outputs": [
    {
     "name": "stdout",
     "output_type": "stream",
     "text": [
      "  % Total    % Received % Xferd  Average Speed   Time    Time     Time  Current\n",
      "                                 Dload  Upload   Total   Spent    Left  Speed\n",
      "100 1004k  100 1004k    0     0  16.3M      0 --:--:-- --:--:-- --:--:-- 16.6M\n"
     ]
    }
   ],
   "source": [
    "# We'll first download some data for this demonstration\n",
    "!curl -O -J https://www.gw-openscience.org/LVT151012data/H-H1_LOSC_4_V2-1128678884-32.gwf"
   ]
  },
  {
   "cell_type": "code",
   "execution_count": 9,
   "metadata": {
    "Collapsed": "false",
    "colab": {},
    "colab_type": "code",
    "id": "iKeWVBxqj8yE"
   },
   "outputs": [
    {
     "name": "stdout",
     "output_type": "stream",
     "text": [
      "[-1.58962885e-19 -1.65536724e-19 -1.57538591e-19 ...  2.32756613e-20\n",
      "  9.88382550e-21  4.53929579e-21]\n"
     ]
    }
   ],
   "source": [
    "from pycbc.frame import read_frame\n",
    "\n",
    "# Read the data directly from the Gravitational-Wave Frame (GWF) file.\n",
    "file_name = \"H-H1_LOSC_4_V2-1128678884-32.gwf\"\n",
    "\n",
    "# LOSC bulk data typically uses the same convention for internal channels names\n",
    "# Strain is typically IFO:LOSC-STRAIN, where IFO can be H1/L1/V1.\n",
    "channel_name = \"H1:LOSC-STRAIN\"\n",
    "\n",
    "start = 1128678884\n",
    "end = start + 32\n",
    "\n",
    "ts = read_frame(file_name, channel_name, start, end)\n",
    "print(ts)"
   ]
  }
 ],
 "metadata": {
  "colab": {
   "name": "1_CatalogData.ipynb",
   "provenance": []
  },
  "kernelspec": {
   "display_name": "igwn-py37",
   "language": "python",
   "name": "igwn-py37"
  },
  "language_info": {
   "codemirror_mode": {
    "name": "ipython",
    "version": 3
   },
   "file_extension": ".py",
   "mimetype": "text/x-python",
   "name": "python",
   "nbconvert_exporter": "python",
   "pygments_lexer": "ipython3",
   "version": "3.7.3"
  }
 },
 "nbformat": 4,
 "nbformat_minor": 4
}
